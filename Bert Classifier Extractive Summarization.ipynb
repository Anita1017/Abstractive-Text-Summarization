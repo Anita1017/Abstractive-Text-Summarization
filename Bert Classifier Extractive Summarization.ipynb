{
  "nbformat": 4,
  "nbformat_minor": 0,
  "metadata": {
    "celltoolbar": "Tags",
    "kernelspec": {
      "display_name": "Python (nlp_gpu)",
      "language": "python",
      "name": "nlp_gpu"
    },
    "language_info": {
      "codemirror_mode": {
        "name": "ipython",
        "version": 3
      },
      "file_extension": ".py",
      "mimetype": "text/x-python",
      "name": "python",
      "nbconvert_exporter": "python",
      "pygments_lexer": "ipython3",
      "version": "3.6.8"
    },
    "colab": {
      "name": "bert_extractive_summarization_cnndm_classifier.ipynb",
      "provenance": [],
      "collapsed_sections": [],
      "toc_visible": true,
      "include_colab_link": true
    },
    "accelerator": "GPU",
    "widgets": {
      "application/vnd.jupyter.widget-state+json": {
        "75c0003dfeea48cc9e025f4ca2ecfa7d": {
          "model_module": "@jupyter-widgets/controls",
          "model_name": "HBoxModel",
          "state": {
            "_view_name": "HBoxView",
            "_dom_classes": [],
            "_model_name": "HBoxModel",
            "_view_module": "@jupyter-widgets/controls",
            "_model_module_version": "1.5.0",
            "_view_count": null,
            "_view_module_version": "1.5.0",
            "box_style": "",
            "layout": "IPY_MODEL_294955f6265c497ead654618ad8beb91",
            "_model_module": "@jupyter-widgets/controls",
            "children": [
              "IPY_MODEL_04b59e4ba57f4edc9deaa4c8fe7203a5",
              "IPY_MODEL_ec2eca6a2c0341ab9e799d7e9490c881"
            ]
          }
        },
        "294955f6265c497ead654618ad8beb91": {
          "model_module": "@jupyter-widgets/base",
          "model_name": "LayoutModel",
          "state": {
            "_view_name": "LayoutView",
            "grid_template_rows": null,
            "right": null,
            "justify_content": null,
            "_view_module": "@jupyter-widgets/base",
            "overflow": null,
            "_model_module_version": "1.2.0",
            "_view_count": null,
            "flex_flow": null,
            "width": null,
            "min_width": null,
            "border": null,
            "align_items": null,
            "bottom": null,
            "_model_module": "@jupyter-widgets/base",
            "top": null,
            "grid_column": null,
            "overflow_y": null,
            "overflow_x": null,
            "grid_auto_flow": null,
            "grid_area": null,
            "grid_template_columns": null,
            "flex": null,
            "_model_name": "LayoutModel",
            "justify_items": null,
            "grid_row": null,
            "max_height": null,
            "align_content": null,
            "visibility": null,
            "align_self": null,
            "height": null,
            "min_height": null,
            "padding": null,
            "grid_auto_rows": null,
            "grid_gap": null,
            "max_width": null,
            "order": null,
            "_view_module_version": "1.2.0",
            "grid_template_areas": null,
            "object_position": null,
            "object_fit": null,
            "grid_auto_columns": null,
            "margin": null,
            "display": null,
            "left": null
          }
        },
        "04b59e4ba57f4edc9deaa4c8fe7203a5": {
          "model_module": "@jupyter-widgets/controls",
          "model_name": "FloatProgressModel",
          "state": {
            "_view_name": "ProgressView",
            "style": "IPY_MODEL_acd31c9ecbaa4fc7b341aae1c9af26bb",
            "_dom_classes": [],
            "description": "Downloading: 100%",
            "_model_name": "FloatProgressModel",
            "bar_style": "success",
            "max": 442,
            "_view_module": "@jupyter-widgets/controls",
            "_model_module_version": "1.5.0",
            "value": 442,
            "_view_count": null,
            "_view_module_version": "1.5.0",
            "orientation": "horizontal",
            "min": 0,
            "description_tooltip": null,
            "_model_module": "@jupyter-widgets/controls",
            "layout": "IPY_MODEL_caa3d938ab0f47c38937f5fba9b45afb"
          }
        },
        "ec2eca6a2c0341ab9e799d7e9490c881": {
          "model_module": "@jupyter-widgets/controls",
          "model_name": "HTMLModel",
          "state": {
            "_view_name": "HTMLView",
            "style": "IPY_MODEL_db411356f1ec49648913e1e15a9992e0",
            "_dom_classes": [],
            "description": "",
            "_model_name": "HTMLModel",
            "placeholder": "​",
            "_view_module": "@jupyter-widgets/controls",
            "_model_module_version": "1.5.0",
            "value": " 442/442 [01:25&lt;00:00, 5.17B/s]",
            "_view_count": null,
            "_view_module_version": "1.5.0",
            "description_tooltip": null,
            "_model_module": "@jupyter-widgets/controls",
            "layout": "IPY_MODEL_d3a862b04511420484e60df473679242"
          }
        },
        "acd31c9ecbaa4fc7b341aae1c9af26bb": {
          "model_module": "@jupyter-widgets/controls",
          "model_name": "ProgressStyleModel",
          "state": {
            "_view_name": "StyleView",
            "_model_name": "ProgressStyleModel",
            "description_width": "initial",
            "_view_module": "@jupyter-widgets/base",
            "_model_module_version": "1.5.0",
            "_view_count": null,
            "_view_module_version": "1.2.0",
            "bar_color": null,
            "_model_module": "@jupyter-widgets/controls"
          }
        },
        "caa3d938ab0f47c38937f5fba9b45afb": {
          "model_module": "@jupyter-widgets/base",
          "model_name": "LayoutModel",
          "state": {
            "_view_name": "LayoutView",
            "grid_template_rows": null,
            "right": null,
            "justify_content": null,
            "_view_module": "@jupyter-widgets/base",
            "overflow": null,
            "_model_module_version": "1.2.0",
            "_view_count": null,
            "flex_flow": null,
            "width": null,
            "min_width": null,
            "border": null,
            "align_items": null,
            "bottom": null,
            "_model_module": "@jupyter-widgets/base",
            "top": null,
            "grid_column": null,
            "overflow_y": null,
            "overflow_x": null,
            "grid_auto_flow": null,
            "grid_area": null,
            "grid_template_columns": null,
            "flex": null,
            "_model_name": "LayoutModel",
            "justify_items": null,
            "grid_row": null,
            "max_height": null,
            "align_content": null,
            "visibility": null,
            "align_self": null,
            "height": null,
            "min_height": null,
            "padding": null,
            "grid_auto_rows": null,
            "grid_gap": null,
            "max_width": null,
            "order": null,
            "_view_module_version": "1.2.0",
            "grid_template_areas": null,
            "object_position": null,
            "object_fit": null,
            "grid_auto_columns": null,
            "margin": null,
            "display": null,
            "left": null
          }
        },
        "db411356f1ec49648913e1e15a9992e0": {
          "model_module": "@jupyter-widgets/controls",
          "model_name": "DescriptionStyleModel",
          "state": {
            "_view_name": "StyleView",
            "_model_name": "DescriptionStyleModel",
            "description_width": "",
            "_view_module": "@jupyter-widgets/base",
            "_model_module_version": "1.5.0",
            "_view_count": null,
            "_view_module_version": "1.2.0",
            "_model_module": "@jupyter-widgets/controls"
          }
        },
        "d3a862b04511420484e60df473679242": {
          "model_module": "@jupyter-widgets/base",
          "model_name": "LayoutModel",
          "state": {
            "_view_name": "LayoutView",
            "grid_template_rows": null,
            "right": null,
            "justify_content": null,
            "_view_module": "@jupyter-widgets/base",
            "overflow": null,
            "_model_module_version": "1.2.0",
            "_view_count": null,
            "flex_flow": null,
            "width": null,
            "min_width": null,
            "border": null,
            "align_items": null,
            "bottom": null,
            "_model_module": "@jupyter-widgets/base",
            "top": null,
            "grid_column": null,
            "overflow_y": null,
            "overflow_x": null,
            "grid_auto_flow": null,
            "grid_area": null,
            "grid_template_columns": null,
            "flex": null,
            "_model_name": "LayoutModel",
            "justify_items": null,
            "grid_row": null,
            "max_height": null,
            "align_content": null,
            "visibility": null,
            "align_self": null,
            "height": null,
            "min_height": null,
            "padding": null,
            "grid_auto_rows": null,
            "grid_gap": null,
            "max_width": null,
            "order": null,
            "_view_module_version": "1.2.0",
            "grid_template_areas": null,
            "object_position": null,
            "object_fit": null,
            "grid_auto_columns": null,
            "margin": null,
            "display": null,
            "left": null
          }
        },
        "253dd51a365f411baa26ac524b088363": {
          "model_module": "@jupyter-widgets/controls",
          "model_name": "HBoxModel",
          "state": {
            "_view_name": "HBoxView",
            "_dom_classes": [],
            "_model_name": "HBoxModel",
            "_view_module": "@jupyter-widgets/controls",
            "_model_module_version": "1.5.0",
            "_view_count": null,
            "_view_module_version": "1.5.0",
            "box_style": "",
            "layout": "IPY_MODEL_32fb2b41e545428186ecf9b9f165c7f5",
            "_model_module": "@jupyter-widgets/controls",
            "children": [
              "IPY_MODEL_0143a82bb06a4cb189055f29f464d36e",
              "IPY_MODEL_619b1bfbc18e42c088892575d6fdb290"
            ]
          }
        },
        "32fb2b41e545428186ecf9b9f165c7f5": {
          "model_module": "@jupyter-widgets/base",
          "model_name": "LayoutModel",
          "state": {
            "_view_name": "LayoutView",
            "grid_template_rows": null,
            "right": null,
            "justify_content": null,
            "_view_module": "@jupyter-widgets/base",
            "overflow": null,
            "_model_module_version": "1.2.0",
            "_view_count": null,
            "flex_flow": null,
            "width": null,
            "min_width": null,
            "border": null,
            "align_items": null,
            "bottom": null,
            "_model_module": "@jupyter-widgets/base",
            "top": null,
            "grid_column": null,
            "overflow_y": null,
            "overflow_x": null,
            "grid_auto_flow": null,
            "grid_area": null,
            "grid_template_columns": null,
            "flex": null,
            "_model_name": "LayoutModel",
            "justify_items": null,
            "grid_row": null,
            "max_height": null,
            "align_content": null,
            "visibility": null,
            "align_self": null,
            "height": null,
            "min_height": null,
            "padding": null,
            "grid_auto_rows": null,
            "grid_gap": null,
            "max_width": null,
            "order": null,
            "_view_module_version": "1.2.0",
            "grid_template_areas": null,
            "object_position": null,
            "object_fit": null,
            "grid_auto_columns": null,
            "margin": null,
            "display": null,
            "left": null
          }
        },
        "0143a82bb06a4cb189055f29f464d36e": {
          "model_module": "@jupyter-widgets/controls",
          "model_name": "FloatProgressModel",
          "state": {
            "_view_name": "ProgressView",
            "style": "IPY_MODEL_10c8754ef8ea4815b7534bf7116d429a",
            "_dom_classes": [],
            "description": "Downloading: 100%",
            "_model_name": "FloatProgressModel",
            "bar_style": "success",
            "max": 231508,
            "_view_module": "@jupyter-widgets/controls",
            "_model_module_version": "1.5.0",
            "value": 231508,
            "_view_count": null,
            "_view_module_version": "1.5.0",
            "orientation": "horizontal",
            "min": 0,
            "description_tooltip": null,
            "_model_module": "@jupyter-widgets/controls",
            "layout": "IPY_MODEL_658db7d2db8b4426a988fa6c33959e3e"
          }
        },
        "619b1bfbc18e42c088892575d6fdb290": {
          "model_module": "@jupyter-widgets/controls",
          "model_name": "HTMLModel",
          "state": {
            "_view_name": "HTMLView",
            "style": "IPY_MODEL_02943f67040843c8b3fe880f8b4bb84a",
            "_dom_classes": [],
            "description": "",
            "_model_name": "HTMLModel",
            "placeholder": "​",
            "_view_module": "@jupyter-widgets/controls",
            "_model_module_version": "1.5.0",
            "value": " 232k/232k [00:13&lt;00:00, 16.9kB/s]",
            "_view_count": null,
            "_view_module_version": "1.5.0",
            "description_tooltip": null,
            "_model_module": "@jupyter-widgets/controls",
            "layout": "IPY_MODEL_dccf7ea5b8b04fa0998733af847892e3"
          }
        },
        "10c8754ef8ea4815b7534bf7116d429a": {
          "model_module": "@jupyter-widgets/controls",
          "model_name": "ProgressStyleModel",
          "state": {
            "_view_name": "StyleView",
            "_model_name": "ProgressStyleModel",
            "description_width": "initial",
            "_view_module": "@jupyter-widgets/base",
            "_model_module_version": "1.5.0",
            "_view_count": null,
            "_view_module_version": "1.2.0",
            "bar_color": null,
            "_model_module": "@jupyter-widgets/controls"
          }
        },
        "658db7d2db8b4426a988fa6c33959e3e": {
          "model_module": "@jupyter-widgets/base",
          "model_name": "LayoutModel",
          "state": {
            "_view_name": "LayoutView",
            "grid_template_rows": null,
            "right": null,
            "justify_content": null,
            "_view_module": "@jupyter-widgets/base",
            "overflow": null,
            "_model_module_version": "1.2.0",
            "_view_count": null,
            "flex_flow": null,
            "width": null,
            "min_width": null,
            "border": null,
            "align_items": null,
            "bottom": null,
            "_model_module": "@jupyter-widgets/base",
            "top": null,
            "grid_column": null,
            "overflow_y": null,
            "overflow_x": null,
            "grid_auto_flow": null,
            "grid_area": null,
            "grid_template_columns": null,
            "flex": null,
            "_model_name": "LayoutModel",
            "justify_items": null,
            "grid_row": null,
            "max_height": null,
            "align_content": null,
            "visibility": null,
            "align_self": null,
            "height": null,
            "min_height": null,
            "padding": null,
            "grid_auto_rows": null,
            "grid_gap": null,
            "max_width": null,
            "order": null,
            "_view_module_version": "1.2.0",
            "grid_template_areas": null,
            "object_position": null,
            "object_fit": null,
            "grid_auto_columns": null,
            "margin": null,
            "display": null,
            "left": null
          }
        },
        "02943f67040843c8b3fe880f8b4bb84a": {
          "model_module": "@jupyter-widgets/controls",
          "model_name": "DescriptionStyleModel",
          "state": {
            "_view_name": "StyleView",
            "_model_name": "DescriptionStyleModel",
            "description_width": "",
            "_view_module": "@jupyter-widgets/base",
            "_model_module_version": "1.5.0",
            "_view_count": null,
            "_view_module_version": "1.2.0",
            "_model_module": "@jupyter-widgets/controls"
          }
        },
        "dccf7ea5b8b04fa0998733af847892e3": {
          "model_module": "@jupyter-widgets/base",
          "model_name": "LayoutModel",
          "state": {
            "_view_name": "LayoutView",
            "grid_template_rows": null,
            "right": null,
            "justify_content": null,
            "_view_module": "@jupyter-widgets/base",
            "overflow": null,
            "_model_module_version": "1.2.0",
            "_view_count": null,
            "flex_flow": null,
            "width": null,
            "min_width": null,
            "border": null,
            "align_items": null,
            "bottom": null,
            "_model_module": "@jupyter-widgets/base",
            "top": null,
            "grid_column": null,
            "overflow_y": null,
            "overflow_x": null,
            "grid_auto_flow": null,
            "grid_area": null,
            "grid_template_columns": null,
            "flex": null,
            "_model_name": "LayoutModel",
            "justify_items": null,
            "grid_row": null,
            "max_height": null,
            "align_content": null,
            "visibility": null,
            "align_self": null,
            "height": null,
            "min_height": null,
            "padding": null,
            "grid_auto_rows": null,
            "grid_gap": null,
            "max_width": null,
            "order": null,
            "_view_module_version": "1.2.0",
            "grid_template_areas": null,
            "object_position": null,
            "object_fit": null,
            "grid_auto_columns": null,
            "margin": null,
            "display": null,
            "left": null
          }
        },
        "ee8bf37da30847a9a54f79cbb6a31e4d": {
          "model_module": "@jupyter-widgets/controls",
          "model_name": "HBoxModel",
          "state": {
            "_view_name": "HBoxView",
            "_dom_classes": [],
            "_model_name": "HBoxModel",
            "_view_module": "@jupyter-widgets/controls",
            "_model_module_version": "1.5.0",
            "_view_count": null,
            "_view_module_version": "1.5.0",
            "box_style": "",
            "layout": "IPY_MODEL_8f74fb05748f4d469e8c470c4bba5778",
            "_model_module": "@jupyter-widgets/controls",
            "children": [
              "IPY_MODEL_c707b1216d424835a505edb974d3dd14",
              "IPY_MODEL_2709695c98f545ecb33ece3ded7ed784"
            ]
          }
        },
        "8f74fb05748f4d469e8c470c4bba5778": {
          "model_module": "@jupyter-widgets/base",
          "model_name": "LayoutModel",
          "state": {
            "_view_name": "LayoutView",
            "grid_template_rows": null,
            "right": null,
            "justify_content": null,
            "_view_module": "@jupyter-widgets/base",
            "overflow": null,
            "_model_module_version": "1.2.0",
            "_view_count": null,
            "flex_flow": null,
            "width": null,
            "min_width": null,
            "border": null,
            "align_items": null,
            "bottom": null,
            "_model_module": "@jupyter-widgets/base",
            "top": null,
            "grid_column": null,
            "overflow_y": null,
            "overflow_x": null,
            "grid_auto_flow": null,
            "grid_area": null,
            "grid_template_columns": null,
            "flex": null,
            "_model_name": "LayoutModel",
            "justify_items": null,
            "grid_row": null,
            "max_height": null,
            "align_content": null,
            "visibility": null,
            "align_self": null,
            "height": null,
            "min_height": null,
            "padding": null,
            "grid_auto_rows": null,
            "grid_gap": null,
            "max_width": null,
            "order": null,
            "_view_module_version": "1.2.0",
            "grid_template_areas": null,
            "object_position": null,
            "object_fit": null,
            "grid_auto_columns": null,
            "margin": null,
            "display": null,
            "left": null
          }
        },
        "c707b1216d424835a505edb974d3dd14": {
          "model_module": "@jupyter-widgets/controls",
          "model_name": "FloatProgressModel",
          "state": {
            "_view_name": "ProgressView",
            "style": "IPY_MODEL_c8034150aa29444da0e2ee72b3b9c557",
            "_dom_classes": [],
            "description": "Downloading: 100%",
            "_model_name": "FloatProgressModel",
            "bar_style": "success",
            "max": 466062,
            "_view_module": "@jupyter-widgets/controls",
            "_model_module_version": "1.5.0",
            "value": 466062,
            "_view_count": null,
            "_view_module_version": "1.5.0",
            "orientation": "horizontal",
            "min": 0,
            "description_tooltip": null,
            "_model_module": "@jupyter-widgets/controls",
            "layout": "IPY_MODEL_141eac9b5bf64d5b9c632a9a4662ce56"
          }
        },
        "2709695c98f545ecb33ece3ded7ed784": {
          "model_module": "@jupyter-widgets/controls",
          "model_name": "HTMLModel",
          "state": {
            "_view_name": "HTMLView",
            "style": "IPY_MODEL_f958bb59f98543ee9a69ddc007809b74",
            "_dom_classes": [],
            "description": "",
            "_model_name": "HTMLModel",
            "placeholder": "​",
            "_view_module": "@jupyter-widgets/controls",
            "_model_module_version": "1.5.0",
            "value": " 466k/466k [00:11&lt;00:00, 42.0kB/s]",
            "_view_count": null,
            "_view_module_version": "1.5.0",
            "description_tooltip": null,
            "_model_module": "@jupyter-widgets/controls",
            "layout": "IPY_MODEL_1171721d7cd541d5a3f5e658270016b3"
          }
        },
        "c8034150aa29444da0e2ee72b3b9c557": {
          "model_module": "@jupyter-widgets/controls",
          "model_name": "ProgressStyleModel",
          "state": {
            "_view_name": "StyleView",
            "_model_name": "ProgressStyleModel",
            "description_width": "initial",
            "_view_module": "@jupyter-widgets/base",
            "_model_module_version": "1.5.0",
            "_view_count": null,
            "_view_module_version": "1.2.0",
            "bar_color": null,
            "_model_module": "@jupyter-widgets/controls"
          }
        },
        "141eac9b5bf64d5b9c632a9a4662ce56": {
          "model_module": "@jupyter-widgets/base",
          "model_name": "LayoutModel",
          "state": {
            "_view_name": "LayoutView",
            "grid_template_rows": null,
            "right": null,
            "justify_content": null,
            "_view_module": "@jupyter-widgets/base",
            "overflow": null,
            "_model_module_version": "1.2.0",
            "_view_count": null,
            "flex_flow": null,
            "width": null,
            "min_width": null,
            "border": null,
            "align_items": null,
            "bottom": null,
            "_model_module": "@jupyter-widgets/base",
            "top": null,
            "grid_column": null,
            "overflow_y": null,
            "overflow_x": null,
            "grid_auto_flow": null,
            "grid_area": null,
            "grid_template_columns": null,
            "flex": null,
            "_model_name": "LayoutModel",
            "justify_items": null,
            "grid_row": null,
            "max_height": null,
            "align_content": null,
            "visibility": null,
            "align_self": null,
            "height": null,
            "min_height": null,
            "padding": null,
            "grid_auto_rows": null,
            "grid_gap": null,
            "max_width": null,
            "order": null,
            "_view_module_version": "1.2.0",
            "grid_template_areas": null,
            "object_position": null,
            "object_fit": null,
            "grid_auto_columns": null,
            "margin": null,
            "display": null,
            "left": null
          }
        },
        "f958bb59f98543ee9a69ddc007809b74": {
          "model_module": "@jupyter-widgets/controls",
          "model_name": "DescriptionStyleModel",
          "state": {
            "_view_name": "StyleView",
            "_model_name": "DescriptionStyleModel",
            "description_width": "",
            "_view_module": "@jupyter-widgets/base",
            "_model_module_version": "1.5.0",
            "_view_count": null,
            "_view_module_version": "1.2.0",
            "_model_module": "@jupyter-widgets/controls"
          }
        },
        "1171721d7cd541d5a3f5e658270016b3": {
          "model_module": "@jupyter-widgets/base",
          "model_name": "LayoutModel",
          "state": {
            "_view_name": "LayoutView",
            "grid_template_rows": null,
            "right": null,
            "justify_content": null,
            "_view_module": "@jupyter-widgets/base",
            "overflow": null,
            "_model_module_version": "1.2.0",
            "_view_count": null,
            "flex_flow": null,
            "width": null,
            "min_width": null,
            "border": null,
            "align_items": null,
            "bottom": null,
            "_model_module": "@jupyter-widgets/base",
            "top": null,
            "grid_column": null,
            "overflow_y": null,
            "overflow_x": null,
            "grid_auto_flow": null,
            "grid_area": null,
            "grid_template_columns": null,
            "flex": null,
            "_model_name": "LayoutModel",
            "justify_items": null,
            "grid_row": null,
            "max_height": null,
            "align_content": null,
            "visibility": null,
            "align_self": null,
            "height": null,
            "min_height": null,
            "padding": null,
            "grid_auto_rows": null,
            "grid_gap": null,
            "max_width": null,
            "order": null,
            "_view_module_version": "1.2.0",
            "grid_template_areas": null,
            "object_position": null,
            "object_fit": null,
            "grid_auto_columns": null,
            "margin": null,
            "display": null,
            "left": null
          }
        },
        "1819ca11cfe34793836b42dbde4751f7": {
          "model_module": "@jupyter-widgets/controls",
          "model_name": "HBoxModel",
          "state": {
            "_view_name": "HBoxView",
            "_dom_classes": [],
            "_model_name": "HBoxModel",
            "_view_module": "@jupyter-widgets/controls",
            "_model_module_version": "1.5.0",
            "_view_count": null,
            "_view_module_version": "1.5.0",
            "box_style": "",
            "layout": "IPY_MODEL_7150fd480d334e32b1ca3b520d7596d8",
            "_model_module": "@jupyter-widgets/controls",
            "children": [
              "IPY_MODEL_49e2092ea37a4a9e9498e3e248b6b507",
              "IPY_MODEL_673f9e79240d42ab927d237be615c387"
            ]
          }
        },
        "7150fd480d334e32b1ca3b520d7596d8": {
          "model_module": "@jupyter-widgets/base",
          "model_name": "LayoutModel",
          "state": {
            "_view_name": "LayoutView",
            "grid_template_rows": null,
            "right": null,
            "justify_content": null,
            "_view_module": "@jupyter-widgets/base",
            "overflow": null,
            "_model_module_version": "1.2.0",
            "_view_count": null,
            "flex_flow": null,
            "width": null,
            "min_width": null,
            "border": null,
            "align_items": null,
            "bottom": null,
            "_model_module": "@jupyter-widgets/base",
            "top": null,
            "grid_column": null,
            "overflow_y": null,
            "overflow_x": null,
            "grid_auto_flow": null,
            "grid_area": null,
            "grid_template_columns": null,
            "flex": null,
            "_model_name": "LayoutModel",
            "justify_items": null,
            "grid_row": null,
            "max_height": null,
            "align_content": null,
            "visibility": null,
            "align_self": null,
            "height": null,
            "min_height": null,
            "padding": null,
            "grid_auto_rows": null,
            "grid_gap": null,
            "max_width": null,
            "order": null,
            "_view_module_version": "1.2.0",
            "grid_template_areas": null,
            "object_position": null,
            "object_fit": null,
            "grid_auto_columns": null,
            "margin": null,
            "display": null,
            "left": null
          }
        },
        "49e2092ea37a4a9e9498e3e248b6b507": {
          "model_module": "@jupyter-widgets/controls",
          "model_name": "FloatProgressModel",
          "state": {
            "_view_name": "ProgressView",
            "style": "IPY_MODEL_5fce2379b1d140b78aedb2afddbbd5bf",
            "_dom_classes": [],
            "description": "Downloading: 100%",
            "_model_name": "FloatProgressModel",
            "bar_style": "success",
            "max": 267967963,
            "_view_module": "@jupyter-widgets/controls",
            "_model_module_version": "1.5.0",
            "value": 267967963,
            "_view_count": null,
            "_view_module_version": "1.5.0",
            "orientation": "horizontal",
            "min": 0,
            "description_tooltip": null,
            "_model_module": "@jupyter-widgets/controls",
            "layout": "IPY_MODEL_b6087fa1d6364730bd45598dfb33dd48"
          }
        },
        "673f9e79240d42ab927d237be615c387": {
          "model_module": "@jupyter-widgets/controls",
          "model_name": "HTMLModel",
          "state": {
            "_view_name": "HTMLView",
            "style": "IPY_MODEL_aff6ad68277a41739e18e13e6bfe05e3",
            "_dom_classes": [],
            "description": "",
            "_model_name": "HTMLModel",
            "placeholder": "​",
            "_view_module": "@jupyter-widgets/controls",
            "_model_module_version": "1.5.0",
            "value": " 268M/268M [00:05&lt;00:00, 44.8MB/s]",
            "_view_count": null,
            "_view_module_version": "1.5.0",
            "description_tooltip": null,
            "_model_module": "@jupyter-widgets/controls",
            "layout": "IPY_MODEL_803053eabbd14209af82aeebc779a0bd"
          }
        },
        "5fce2379b1d140b78aedb2afddbbd5bf": {
          "model_module": "@jupyter-widgets/controls",
          "model_name": "ProgressStyleModel",
          "state": {
            "_view_name": "StyleView",
            "_model_name": "ProgressStyleModel",
            "description_width": "initial",
            "_view_module": "@jupyter-widgets/base",
            "_model_module_version": "1.5.0",
            "_view_count": null,
            "_view_module_version": "1.2.0",
            "bar_color": null,
            "_model_module": "@jupyter-widgets/controls"
          }
        },
        "b6087fa1d6364730bd45598dfb33dd48": {
          "model_module": "@jupyter-widgets/base",
          "model_name": "LayoutModel",
          "state": {
            "_view_name": "LayoutView",
            "grid_template_rows": null,
            "right": null,
            "justify_content": null,
            "_view_module": "@jupyter-widgets/base",
            "overflow": null,
            "_model_module_version": "1.2.0",
            "_view_count": null,
            "flex_flow": null,
            "width": null,
            "min_width": null,
            "border": null,
            "align_items": null,
            "bottom": null,
            "_model_module": "@jupyter-widgets/base",
            "top": null,
            "grid_column": null,
            "overflow_y": null,
            "overflow_x": null,
            "grid_auto_flow": null,
            "grid_area": null,
            "grid_template_columns": null,
            "flex": null,
            "_model_name": "LayoutModel",
            "justify_items": null,
            "grid_row": null,
            "max_height": null,
            "align_content": null,
            "visibility": null,
            "align_self": null,
            "height": null,
            "min_height": null,
            "padding": null,
            "grid_auto_rows": null,
            "grid_gap": null,
            "max_width": null,
            "order": null,
            "_view_module_version": "1.2.0",
            "grid_template_areas": null,
            "object_position": null,
            "object_fit": null,
            "grid_auto_columns": null,
            "margin": null,
            "display": null,
            "left": null
          }
        },
        "aff6ad68277a41739e18e13e6bfe05e3": {
          "model_module": "@jupyter-widgets/controls",
          "model_name": "DescriptionStyleModel",
          "state": {
            "_view_name": "StyleView",
            "_model_name": "DescriptionStyleModel",
            "description_width": "",
            "_view_module": "@jupyter-widgets/base",
            "_model_module_version": "1.5.0",
            "_view_count": null,
            "_view_module_version": "1.2.0",
            "_model_module": "@jupyter-widgets/controls"
          }
        },
        "803053eabbd14209af82aeebc779a0bd": {
          "model_module": "@jupyter-widgets/base",
          "model_name": "LayoutModel",
          "state": {
            "_view_name": "LayoutView",
            "grid_template_rows": null,
            "right": null,
            "justify_content": null,
            "_view_module": "@jupyter-widgets/base",
            "overflow": null,
            "_model_module_version": "1.2.0",
            "_view_count": null,
            "flex_flow": null,
            "width": null,
            "min_width": null,
            "border": null,
            "align_items": null,
            "bottom": null,
            "_model_module": "@jupyter-widgets/base",
            "top": null,
            "grid_column": null,
            "overflow_y": null,
            "overflow_x": null,
            "grid_auto_flow": null,
            "grid_area": null,
            "grid_template_columns": null,
            "flex": null,
            "_model_name": "LayoutModel",
            "justify_items": null,
            "grid_row": null,
            "max_height": null,
            "align_content": null,
            "visibility": null,
            "align_self": null,
            "height": null,
            "min_height": null,
            "padding": null,
            "grid_auto_rows": null,
            "grid_gap": null,
            "max_width": null,
            "order": null,
            "_view_module_version": "1.2.0",
            "grid_template_areas": null,
            "object_position": null,
            "object_fit": null,
            "grid_auto_columns": null,
            "margin": null,
            "display": null,
            "left": null
          }
        }
      }
    }
  },
  "cells": [
    {
      "cell_type": "markdown",
      "metadata": {
        "id": "view-in-github",
        "colab_type": "text"
      },
      "source": [
        "<a href=\"https://colab.research.google.com/github/Anita1017/Abstractive-Text-Summarization/blob/main/Bert%20Classifier%20Extractive%20Summarization.ipynb\" target=\"_parent\"><img src=\"https://colab.research.google.com/assets/colab-badge.svg\" alt=\"Open In Colab\"/></a>"
      ]
    },
    {
      "cell_type": "markdown",
      "metadata": {
        "id": "Qhto6wl0giC_"
      },
      "source": [
        "## Extractive Summarization on CNN/DM Dataset using Transformer Version of BertSum\n",
        "\n",
        "\n",
        "### Summary\n",
        "\n",
        "This notebook demonstrates how to fine tune Transformers for extractive text summarization. Utility functions and classes in the NLP Best Practices repo are used to facilitate data preprocessing, model training, model scoring, result postprocessing, and model evaluation.\n",
        "\n",
        "BertSum refers to  [Fine-tune BERT for Extractive Summarization](https://arxiv.org/pdf/1903.10318.pdf) with [published example](https://github.com/nlpyang/BertSum/). And the Transformer version of Bertsum refers to our modification of BertSum and the source code can be accessed at (https://github.com/daden-ms/BertSum/). \n",
        "\n",
        "Extractive summarization are usually used in document summarization where each input document consists of mutiple sentences. The preprocessing of the input training data involves assigning label 0 or 1 to the document sentences based on the give summary. The summarization problem is also simplfied to classifying whether a document sentence should be included in the summary. \n",
        "\n",
        "The figure below illustrates how BERTSum can be fine tuned for extractive summarization task. [CLS] token is inserted at the beginning of each sentence, so is [SEP] token at the end. Interval segment embedding and positional embedding are added upon the token embedding as the input of the BERT model. The [CLS] token representation is used as sentence embedding and only the [CLS] tokens are used as the input for the summarization model. The summarization layer predicts the probability for each  sentence being included in the summary. Techniques like trigram blocking can be used to improve model accuarcy.   \n",
        "\n",
        "<img src=\"https://nlpbp.blob.core.windows.net/images/BertSum.PNG\">\n",
        "\n",
        "\n",
        "### Before You Start\n",
        "\n",
        "The running time shown in this notebook is on a Standard_NC24s_v3 Azure Ubuntu Virtual Machine with 4 NVIDIA Tesla V100 GPUs. \n",
        "> **Tip**: If you want to run through the notebook quickly, you can set the **`QUICK_RUN`** flag in the cell below to **`True`** to run the notebook on a small subset of the data and a smaller number of epochs. \n",
        "\n",
        "Using only 1 NVIDIA Tesla V100 GPUs, 16GB GPU memory configuration,\n",
        "- for data preprocessing, it takes around 1 minutes to preprocess the data for quick run. Otherwise it takes ~20 minutes to finish the data preprocessing. This time estimation assumes that the chosen transformer model is \"distilbert-base-uncased\" and the sentence selection method is \"greedy\", which is the default. The preprocessing time can be significantly longer if the sentence selection method is \"combination\", which can achieve better model performance.\n",
        "\n",
        "- for model fine tuning, it takes around 2 minutes for quick run. Otherwise, it takes around ~3 hours to finish. This estimation assumes the chosen encoder method is \"transformer\". The model fine tuning time can be shorter if other encoder method is chosen, which may result in worse model performance. \n",
        "\n",
        "### Additional Notes\n",
        "\n",
        "* **ROUGE Evalation**: To run rouge evaluation, please refer to the section of compute_rouge_perl in [summarization_evaluation.ipynb](./summarization_evaluation.ipynb) for setup.\n",
        "\n",
        "* **Distributed Training**:\n",
        "Please note that the jupyter notebook only allows to use pytorch [DataParallel](https://pytorch.org/docs/master/nn.html#dataparallel). Faster speed and larger batch size can be achieved with pytorch [DistributedDataParallel](https://pytorch.org/docs/master/notes/ddp.html)(DDP). Script [extractive_summarization_cnndm_distributed_train.py](./extractive_summarization_cnndm_distributed_train.py) shows an example of how to use DDP.\n",
        "\n"
      ]
    },
    {
      "cell_type": "markdown",
      "metadata": {
        "id": "su8IXQlqgiDA"
      },
      "source": [
        "###Installation\n",
        "\n",
        "\n",
        "---\n",
        "\n"
      ]
    },
    {
      "cell_type": "markdown",
      "metadata": {
        "id": "S-RhICl1wWOT"
      },
      "source": [
        "####Run these and then restart the Runtime"
      ]
    },
    {
      "cell_type": "code",
      "metadata": {
        "id": "ei58t18ljLM0",
        "colab": {
          "base_uri": "https://localhost:8080/"
        },
        "outputId": "f95ff0c1-ca32-486b-ecdc-13709f649a2a"
      },
      "source": [
        "!pip install -e git+https://github.com/microsoft/nlp-recipes.git@master#egg=utils_nlp\n",
        "\n"
      ],
      "execution_count": null,
      "outputs": [
        {
          "output_type": "stream",
          "text": [
            "Obtaining utils_nlp from git+https://github.com/microsoft/nlp-recipes.git@master#egg=utils_nlp\n",
            "  Cloning https://github.com/microsoft/nlp-recipes.git (to revision master) to ./src/utils-nlp\n",
            "  Running command git clone -q https://github.com/microsoft/nlp-recipes.git /content/src/utils-nlp\n",
            "  Installing build dependencies ... \u001b[?25l\u001b[?25hdone\n",
            "  Getting requirements to build wheel ... \u001b[?25l\u001b[?25hdone\n",
            "    Preparing wheel metadata ... \u001b[?25l\u001b[?25hdone\n",
            "Installing collected packages: utils-nlp\n",
            "  Running setup.py develop for utils-nlp\n",
            "Successfully installed utils-nlp\n"
          ],
          "name": "stdout"
        }
      ]
    },
    {
      "cell_type": "code",
      "metadata": {
        "id": "KCECCgK1ogxn",
        "colab": {
          "base_uri": "https://localhost:8080/"
        },
        "outputId": "7ae7a01d-fecf-46e4-cc4d-85e241b3f855"
      },
      "source": [
        "!pip install -e git+https://github.com/pytorch/text.git@master#egg=torchtext\n"
      ],
      "execution_count": null,
      "outputs": [
        {
          "output_type": "stream",
          "text": [
            "Obtaining torchtext from git+https://github.com/pytorch/text.git@master#egg=torchtext\n",
            "  Cloning https://github.com/pytorch/text.git (to revision master) to ./src/torchtext\n",
            "  Running command git clone -q https://github.com/pytorch/text.git /content/src/torchtext\n",
            "  Running command git submodule update --init --recursive -q\n",
            "Requirement already satisfied: tqdm in /usr/local/lib/python3.6/dist-packages (from torchtext) (4.41.1)\n",
            "Requirement already satisfied: requests in /usr/local/lib/python3.6/dist-packages (from torchtext) (2.23.0)\n",
            "Requirement already satisfied: torch in /usr/local/lib/python3.6/dist-packages (from torchtext) (1.7.0+cu101)\n",
            "Requirement already satisfied: numpy in /usr/local/lib/python3.6/dist-packages (from torchtext) (1.19.4)\n",
            "Requirement already satisfied: urllib3!=1.25.0,!=1.25.1,<1.26,>=1.21.1 in /usr/local/lib/python3.6/dist-packages (from requests->torchtext) (1.24.3)\n",
            "Requirement already satisfied: idna<3,>=2.5 in /usr/local/lib/python3.6/dist-packages (from requests->torchtext) (2.10)\n",
            "Requirement already satisfied: chardet<4,>=3.0.2 in /usr/local/lib/python3.6/dist-packages (from requests->torchtext) (3.0.4)\n",
            "Requirement already satisfied: certifi>=2017.4.17 in /usr/local/lib/python3.6/dist-packages (from requests->torchtext) (2020.12.5)\n",
            "Requirement already satisfied: future in /usr/local/lib/python3.6/dist-packages (from torch->torchtext) (0.16.0)\n",
            "Requirement already satisfied: dataclasses in /usr/local/lib/python3.6/dist-packages (from torch->torchtext) (0.8)\n",
            "Requirement already satisfied: typing-extensions in /usr/local/lib/python3.6/dist-packages (from torch->torchtext) (3.7.4.3)\n",
            "Installing collected packages: torchtext\n",
            "  Found existing installation: torchtext 0.3.1\n",
            "    Uninstalling torchtext-0.3.1:\n",
            "      Successfully uninstalled torchtext-0.3.1\n",
            "  Running setup.py develop for torchtext\n",
            "  Rolling back uninstall of torchtext\n",
            "  Moving to /usr/local/lib/python3.6/dist-packages/test/common/\n",
            "   from /usr/local/lib/python3.6/dist-packages/test/~ommon\n",
            "  Moving to /usr/local/lib/python3.6/dist-packages/test/data/\n",
            "   from /usr/local/lib/python3.6/dist-packages/test/~ata\n",
            "  Moving to /usr/local/lib/python3.6/dist-packages/torchtext-0.3.1.dist-info/\n",
            "   from /usr/local/lib/python3.6/dist-packages/~orchtext-0.3.1.dist-info\n",
            "  Moving to /usr/local/lib/python3.6/dist-packages/torchtext/\n",
            "   from /usr/local/lib/python3.6/dist-packages/~orchtext\n",
            "\u001b[31mERROR: Command errored out with exit status 1: /usr/bin/python3 -c 'import sys, setuptools, tokenize; sys.argv[0] = '\"'\"'/content/src/torchtext/setup.py'\"'\"'; __file__='\"'\"'/content/src/torchtext/setup.py'\"'\"';f=getattr(tokenize, '\"'\"'open'\"'\"', open)(__file__);code=f.read().replace('\"'\"'\\r\\n'\"'\"', '\"'\"'\\n'\"'\"');f.close();exec(compile(code, __file__, '\"'\"'exec'\"'\"'))' develop --no-deps Check the logs for full command output.\u001b[0m\n"
          ],
          "name": "stdout"
        }
      ]
    },
    {
      "cell_type": "code",
      "metadata": {
        "id": "Cpwe0tMnqyNb",
        "colab": {
          "base_uri": "https://localhost:8080/"
        },
        "outputId": "7e0e415e-bc74-49b9-c1ef-aa3ba011c343"
      },
      "source": [
        "!pip install -e git+https://github.com/wbolster/jsonlines#egg=jsonlines"
      ],
      "execution_count": null,
      "outputs": [
        {
          "output_type": "stream",
          "text": [
            "Obtaining jsonlines from git+https://github.com/wbolster/jsonlines#egg=jsonlines\n",
            "  Cloning https://github.com/wbolster/jsonlines to ./src/jsonlines\n",
            "  Running command git clone -q https://github.com/wbolster/jsonlines /content/src/jsonlines\n",
            "Requirement already satisfied: six in /usr/local/lib/python3.6/dist-packages (from jsonlines) (1.15.0)\n",
            "Installing collected packages: jsonlines\n",
            "  Running setup.py develop for jsonlines\n",
            "Successfully installed jsonlines\n"
          ],
          "name": "stdout"
        }
      ]
    },
    {
      "cell_type": "markdown",
      "metadata": {
        "id": "fWKn0jiVv8bH"
      },
      "source": [
        "####After restart Runtime"
      ]
    },
    {
      "cell_type": "code",
      "metadata": {
        "id": "i-5Cg-_PsZHY",
        "colab": {
          "base_uri": "https://localhost:8080/"
        },
        "outputId": "98edc50d-e9e2-4b78-d64b-d2f2593b90a7"
      },
      "source": [
        "pip install pyrouge\n"
      ],
      "execution_count": null,
      "outputs": [
        {
          "output_type": "stream",
          "text": [
            "Collecting pyrouge\n",
            "\u001b[?25l  Downloading https://files.pythonhosted.org/packages/11/85/e522dd6b36880ca19dcf7f262b22365748f56edc6f455e7b6a37d0382c32/pyrouge-0.1.3.tar.gz (60kB)\n",
            "\r\u001b[K     |█████▍                          | 10kB 20.6MB/s eta 0:00:01\r\u001b[K     |██████████▉                     | 20kB 22.5MB/s eta 0:00:01\r\u001b[K     |████████████████▎               | 30kB 11.8MB/s eta 0:00:01\r\u001b[K     |█████████████████████▋          | 40kB 9.8MB/s eta 0:00:01\r\u001b[K     |███████████████████████████     | 51kB 8.4MB/s eta 0:00:01\r\u001b[K     |████████████████████████████████| 61kB 5.3MB/s \n",
            "\u001b[?25hBuilding wheels for collected packages: pyrouge\n",
            "  Building wheel for pyrouge (setup.py) ... \u001b[?25l\u001b[?25hdone\n",
            "  Created wheel for pyrouge: filename=pyrouge-0.1.3-cp36-none-any.whl size=191614 sha256=36d90184b3dbdc68b325dd350c16792bf0ba10c0a6cbc7544ea376ac850ea770\n",
            "  Stored in directory: /root/.cache/pip/wheels/75/d3/0c/e5b04e15b6b87c42e980de3931d2686e14d36e045058983599\n",
            "Successfully built pyrouge\n",
            "Installing collected packages: pyrouge\n",
            "Successfully installed pyrouge-0.1.3\n"
          ],
          "name": "stdout"
        }
      ]
    },
    {
      "cell_type": "code",
      "metadata": {
        "id": "j18H5q9jsee8",
        "colab": {
          "base_uri": "https://localhost:8080/"
        },
        "outputId": "599670a9-ea58-420b-84aa-62a9defae645"
      },
      "source": [
        "pip install rouge"
      ],
      "execution_count": null,
      "outputs": [
        {
          "output_type": "stream",
          "text": [
            "Collecting rouge\n",
            "  Downloading https://files.pythonhosted.org/packages/43/cc/e18e33be20971ff73a056ebdb023476b5a545e744e3fc22acd8c758f1e0d/rouge-1.0.0-py3-none-any.whl\n",
            "Requirement already satisfied: six in /usr/local/lib/python3.6/dist-packages (from rouge) (1.15.0)\n",
            "Installing collected packages: rouge\n",
            "Successfully installed rouge-1.0.0\n"
          ],
          "name": "stdout"
        }
      ]
    },
    {
      "cell_type": "code",
      "metadata": {
        "id": "MsS5qC6hsr19",
        "colab": {
          "base_uri": "https://localhost:8080/"
        },
        "outputId": "e3c9536f-ac31-4603-f83a-c7692d09b14d"
      },
      "source": [
        "\n",
        "!pip install indic-nlp-library\n"
      ],
      "execution_count": null,
      "outputs": [
        {
          "output_type": "stream",
          "text": [
            "Collecting indic-nlp-library\n",
            "  Downloading https://files.pythonhosted.org/packages/2f/51/f4e4542a226055b73a621ad442c16ae2c913d6b497283c99cae7a9661e6c/indic_nlp_library-0.71-py3-none-any.whl\n",
            "Requirement already satisfied: pandas in /usr/local/lib/python3.6/dist-packages (from indic-nlp-library) (1.1.5)\n",
            "Collecting morfessor\n",
            "  Downloading https://files.pythonhosted.org/packages/39/e6/7afea30be2ee4d29ce9de0fa53acbb033163615f849515c0b1956ad074ee/Morfessor-2.0.6-py3-none-any.whl\n",
            "Requirement already satisfied: numpy in /usr/local/lib/python3.6/dist-packages (from indic-nlp-library) (1.19.4)\n",
            "Requirement already satisfied: pytz>=2017.2 in /usr/local/lib/python3.6/dist-packages (from pandas->indic-nlp-library) (2018.9)\n",
            "Requirement already satisfied: python-dateutil>=2.7.3 in /usr/local/lib/python3.6/dist-packages (from pandas->indic-nlp-library) (2.8.1)\n",
            "Requirement already satisfied: six>=1.5 in /usr/local/lib/python3.6/dist-packages (from python-dateutil>=2.7.3->pandas->indic-nlp-library) (1.15.0)\n",
            "Installing collected packages: morfessor, indic-nlp-library\n",
            "Successfully installed indic-nlp-library-0.71 morfessor-2.0.6\n"
          ],
          "name": "stdout"
        }
      ]
    },
    {
      "cell_type": "code",
      "metadata": {
        "id": "8DErS0mEUzEV",
        "colab": {
          "base_uri": "https://localhost:8080/"
        },
        "outputId": "56480cb6-f376-4b80-db79-16f6c945a48f"
      },
      "source": [
        "pip install transformers\n"
      ],
      "execution_count": null,
      "outputs": [
        {
          "output_type": "stream",
          "text": [
            "Collecting transformers\n",
            "\u001b[?25l  Downloading https://files.pythonhosted.org/packages/50/0c/7d5950fcd80b029be0a8891727ba21e0cd27692c407c51261c3c921f6da3/transformers-4.1.1-py3-none-any.whl (1.5MB)\n",
            "\r\u001b[K     |▏                               | 10kB 24.0MB/s eta 0:00:01\r\u001b[K     |▍                               | 20kB 15.8MB/s eta 0:00:01\r\u001b[K     |▋                               | 30kB 13.4MB/s eta 0:00:01\r\u001b[K     |▉                               | 40kB 12.7MB/s eta 0:00:01\r\u001b[K     |█                               | 51kB 8.7MB/s eta 0:00:01\r\u001b[K     |█▎                              | 61kB 8.1MB/s eta 0:00:01\r\u001b[K     |█▌                              | 71kB 9.2MB/s eta 0:00:01\r\u001b[K     |█▊                              | 81kB 10.1MB/s eta 0:00:01\r\u001b[K     |██                              | 92kB 10.6MB/s eta 0:00:01\r\u001b[K     |██▏                             | 102kB 8.4MB/s eta 0:00:01\r\u001b[K     |██▍                             | 112kB 8.4MB/s eta 0:00:01\r\u001b[K     |██▋                             | 122kB 8.4MB/s eta 0:00:01\r\u001b[K     |██▉                             | 133kB 8.4MB/s eta 0:00:01\r\u001b[K     |███                             | 143kB 8.4MB/s eta 0:00:01\r\u001b[K     |███▎                            | 153kB 8.4MB/s eta 0:00:01\r\u001b[K     |███▌                            | 163kB 8.4MB/s eta 0:00:01\r\u001b[K     |███▊                            | 174kB 8.4MB/s eta 0:00:01\r\u001b[K     |████                            | 184kB 8.4MB/s eta 0:00:01\r\u001b[K     |████▏                           | 194kB 8.4MB/s eta 0:00:01\r\u001b[K     |████▎                           | 204kB 8.4MB/s eta 0:00:01\r\u001b[K     |████▌                           | 215kB 8.4MB/s eta 0:00:01\r\u001b[K     |████▊                           | 225kB 8.4MB/s eta 0:00:01\r\u001b[K     |█████                           | 235kB 8.4MB/s eta 0:00:01\r\u001b[K     |█████▏                          | 245kB 8.4MB/s eta 0:00:01\r\u001b[K     |█████▍                          | 256kB 8.4MB/s eta 0:00:01\r\u001b[K     |█████▋                          | 266kB 8.4MB/s eta 0:00:01\r\u001b[K     |█████▉                          | 276kB 8.4MB/s eta 0:00:01\r\u001b[K     |██████                          | 286kB 8.4MB/s eta 0:00:01\r\u001b[K     |██████▎                         | 296kB 8.4MB/s eta 0:00:01\r\u001b[K     |██████▌                         | 307kB 8.4MB/s eta 0:00:01\r\u001b[K     |██████▊                         | 317kB 8.4MB/s eta 0:00:01\r\u001b[K     |███████                         | 327kB 8.4MB/s eta 0:00:01\r\u001b[K     |███████▏                        | 337kB 8.4MB/s eta 0:00:01\r\u001b[K     |███████▍                        | 348kB 8.4MB/s eta 0:00:01\r\u001b[K     |███████▋                        | 358kB 8.4MB/s eta 0:00:01\r\u001b[K     |███████▉                        | 368kB 8.4MB/s eta 0:00:01\r\u001b[K     |████████                        | 378kB 8.4MB/s eta 0:00:01\r\u001b[K     |████████▎                       | 389kB 8.4MB/s eta 0:00:01\r\u001b[K     |████████▌                       | 399kB 8.4MB/s eta 0:00:01\r\u001b[K     |████████▋                       | 409kB 8.4MB/s eta 0:00:01\r\u001b[K     |████████▉                       | 419kB 8.4MB/s eta 0:00:01\r\u001b[K     |█████████                       | 430kB 8.4MB/s eta 0:00:01\r\u001b[K     |█████████▎                      | 440kB 8.4MB/s eta 0:00:01\r\u001b[K     |█████████▌                      | 450kB 8.4MB/s eta 0:00:01\r\u001b[K     |█████████▊                      | 460kB 8.4MB/s eta 0:00:01\r\u001b[K     |██████████                      | 471kB 8.4MB/s eta 0:00:01\r\u001b[K     |██████████▏                     | 481kB 8.4MB/s eta 0:00:01\r\u001b[K     |██████████▍                     | 491kB 8.4MB/s eta 0:00:01\r\u001b[K     |██████████▋                     | 501kB 8.4MB/s eta 0:00:01\r\u001b[K     |██████████▉                     | 512kB 8.4MB/s eta 0:00:01\r\u001b[K     |███████████                     | 522kB 8.4MB/s eta 0:00:01\r\u001b[K     |███████████▎                    | 532kB 8.4MB/s eta 0:00:01\r\u001b[K     |███████████▌                    | 542kB 8.4MB/s eta 0:00:01\r\u001b[K     |███████████▊                    | 552kB 8.4MB/s eta 0:00:01\r\u001b[K     |████████████                    | 563kB 8.4MB/s eta 0:00:01\r\u001b[K     |████████████▏                   | 573kB 8.4MB/s eta 0:00:01\r\u001b[K     |████████████▍                   | 583kB 8.4MB/s eta 0:00:01\r\u001b[K     |████████████▋                   | 593kB 8.4MB/s eta 0:00:01\r\u001b[K     |████████████▉                   | 604kB 8.4MB/s eta 0:00:01\r\u001b[K     |█████████████                   | 614kB 8.4MB/s eta 0:00:01\r\u001b[K     |█████████████▏                  | 624kB 8.4MB/s eta 0:00:01\r\u001b[K     |█████████████▍                  | 634kB 8.4MB/s eta 0:00:01\r\u001b[K     |█████████████▋                  | 645kB 8.4MB/s eta 0:00:01\r\u001b[K     |█████████████▉                  | 655kB 8.4MB/s eta 0:00:01\r\u001b[K     |██████████████                  | 665kB 8.4MB/s eta 0:00:01\r\u001b[K     |██████████████▎                 | 675kB 8.4MB/s eta 0:00:01\r\u001b[K     |██████████████▌                 | 686kB 8.4MB/s eta 0:00:01\r\u001b[K     |██████████████▊                 | 696kB 8.4MB/s eta 0:00:01\r\u001b[K     |███████████████                 | 706kB 8.4MB/s eta 0:00:01\r\u001b[K     |███████████████▏                | 716kB 8.4MB/s eta 0:00:01\r\u001b[K     |███████████████▍                | 727kB 8.4MB/s eta 0:00:01\r\u001b[K     |███████████████▋                | 737kB 8.4MB/s eta 0:00:01\r\u001b[K     |███████████████▉                | 747kB 8.4MB/s eta 0:00:01\r\u001b[K     |████████████████                | 757kB 8.4MB/s eta 0:00:01\r\u001b[K     |████████████████▎               | 768kB 8.4MB/s eta 0:00:01\r\u001b[K     |████████████████▌               | 778kB 8.4MB/s eta 0:00:01\r\u001b[K     |████████████████▊               | 788kB 8.4MB/s eta 0:00:01\r\u001b[K     |█████████████████               | 798kB 8.4MB/s eta 0:00:01\r\u001b[K     |█████████████████               | 808kB 8.4MB/s eta 0:00:01\r\u001b[K     |█████████████████▎              | 819kB 8.4MB/s eta 0:00:01\r\u001b[K     |█████████████████▌              | 829kB 8.4MB/s eta 0:00:01\r\u001b[K     |█████████████████▊              | 839kB 8.4MB/s eta 0:00:01\r\u001b[K     |██████████████████              | 849kB 8.4MB/s eta 0:00:01\r\u001b[K     |██████████████████▏             | 860kB 8.4MB/s eta 0:00:01\r\u001b[K     |██████████████████▍             | 870kB 8.4MB/s eta 0:00:01\r\u001b[K     |██████████████████▋             | 880kB 8.4MB/s eta 0:00:01\r\u001b[K     |██████████████████▉             | 890kB 8.4MB/s eta 0:00:01\r\u001b[K     |███████████████████             | 901kB 8.4MB/s eta 0:00:01\r\u001b[K     |███████████████████▎            | 911kB 8.4MB/s eta 0:00:01\r\u001b[K     |███████████████████▌            | 921kB 8.4MB/s eta 0:00:01\r\u001b[K     |███████████████████▊            | 931kB 8.4MB/s eta 0:00:01\r\u001b[K     |████████████████████            | 942kB 8.4MB/s eta 0:00:01\r\u001b[K     |████████████████████▏           | 952kB 8.4MB/s eta 0:00:01\r\u001b[K     |████████████████████▍           | 962kB 8.4MB/s eta 0:00:01\r\u001b[K     |████████████████████▋           | 972kB 8.4MB/s eta 0:00:01\r\u001b[K     |████████████████████▉           | 983kB 8.4MB/s eta 0:00:01\r\u001b[K     |█████████████████████           | 993kB 8.4MB/s eta 0:00:01\r\u001b[K     |█████████████████████▎          | 1.0MB 8.4MB/s eta 0:00:01\r\u001b[K     |█████████████████████▍          | 1.0MB 8.4MB/s eta 0:00:01\r\u001b[K     |█████████████████████▋          | 1.0MB 8.4MB/s eta 0:00:01\r\u001b[K     |█████████████████████▉          | 1.0MB 8.4MB/s eta 0:00:01\r\u001b[K     |██████████████████████          | 1.0MB 8.4MB/s eta 0:00:01\r\u001b[K     |██████████████████████▎         | 1.1MB 8.4MB/s eta 0:00:01\r\u001b[K     |██████████████████████▌         | 1.1MB 8.4MB/s eta 0:00:01\r\u001b[K     |██████████████████████▊         | 1.1MB 8.4MB/s eta 0:00:01\r\u001b[K     |███████████████████████         | 1.1MB 8.4MB/s eta 0:00:01\r\u001b[K     |███████████████████████▏        | 1.1MB 8.4MB/s eta 0:00:01\r\u001b[K     |███████████████████████▍        | 1.1MB 8.4MB/s eta 0:00:01\r\u001b[K     |███████████████████████▋        | 1.1MB 8.4MB/s eta 0:00:01\r\u001b[K     |███████████████████████▉        | 1.1MB 8.4MB/s eta 0:00:01\r\u001b[K     |████████████████████████        | 1.1MB 8.4MB/s eta 0:00:01\r\u001b[K     |████████████████████████▎       | 1.1MB 8.4MB/s eta 0:00:01\r\u001b[K     |████████████████████████▌       | 1.2MB 8.4MB/s eta 0:00:01\r\u001b[K     |████████████████████████▊       | 1.2MB 8.4MB/s eta 0:00:01\r\u001b[K     |█████████████████████████       | 1.2MB 8.4MB/s eta 0:00:01\r\u001b[K     |█████████████████████████▏      | 1.2MB 8.4MB/s eta 0:00:01\r\u001b[K     |█████████████████████████▍      | 1.2MB 8.4MB/s eta 0:00:01\r\u001b[K     |█████████████████████████▋      | 1.2MB 8.4MB/s eta 0:00:01\r\u001b[K     |█████████████████████████▊      | 1.2MB 8.4MB/s eta 0:00:01\r\u001b[K     |██████████████████████████      | 1.2MB 8.4MB/s eta 0:00:01\r\u001b[K     |██████████████████████████▏     | 1.2MB 8.4MB/s eta 0:00:01\r\u001b[K     |██████████████████████████▍     | 1.2MB 8.4MB/s eta 0:00:01\r\u001b[K     |██████████████████████████▋     | 1.3MB 8.4MB/s eta 0:00:01\r\u001b[K     |██████████████████████████▉     | 1.3MB 8.4MB/s eta 0:00:01\r\u001b[K     |███████████████████████████     | 1.3MB 8.4MB/s eta 0:00:01\r\u001b[K     |███████████████████████████▎    | 1.3MB 8.4MB/s eta 0:00:01\r\u001b[K     |███████████████████████████▌    | 1.3MB 8.4MB/s eta 0:00:01\r\u001b[K     |███████████████████████████▊    | 1.3MB 8.4MB/s eta 0:00:01\r\u001b[K     |████████████████████████████    | 1.3MB 8.4MB/s eta 0:00:01\r\u001b[K     |████████████████████████████▏   | 1.3MB 8.4MB/s eta 0:00:01\r\u001b[K     |████████████████████████████▍   | 1.3MB 8.4MB/s eta 0:00:01\r\u001b[K     |████████████████████████████▋   | 1.4MB 8.4MB/s eta 0:00:01\r\u001b[K     |████████████████████████████▉   | 1.4MB 8.4MB/s eta 0:00:01\r\u001b[K     |█████████████████████████████   | 1.4MB 8.4MB/s eta 0:00:01\r\u001b[K     |█████████████████████████████▎  | 1.4MB 8.4MB/s eta 0:00:01\r\u001b[K     |█████████████████████████████▌  | 1.4MB 8.4MB/s eta 0:00:01\r\u001b[K     |█████████████████████████████▊  | 1.4MB 8.4MB/s eta 0:00:01\r\u001b[K     |█████████████████████████████▉  | 1.4MB 8.4MB/s eta 0:00:01\r\u001b[K     |██████████████████████████████  | 1.4MB 8.4MB/s eta 0:00:01\r\u001b[K     |██████████████████████████████▎ | 1.4MB 8.4MB/s eta 0:00:01\r\u001b[K     |██████████████████████████████▌ | 1.4MB 8.4MB/s eta 0:00:01\r\u001b[K     |██████████████████████████████▊ | 1.5MB 8.4MB/s eta 0:00:01\r\u001b[K     |███████████████████████████████ | 1.5MB 8.4MB/s eta 0:00:01\r\u001b[K     |███████████████████████████████▏| 1.5MB 8.4MB/s eta 0:00:01\r\u001b[K     |███████████████████████████████▍| 1.5MB 8.4MB/s eta 0:00:01\r\u001b[K     |███████████████████████████████▋| 1.5MB 8.4MB/s eta 0:00:01\r\u001b[K     |███████████████████████████████▉| 1.5MB 8.4MB/s eta 0:00:01\r\u001b[K     |████████████████████████████████| 1.5MB 8.4MB/s \n",
            "\u001b[?25hRequirement already satisfied: requests in /usr/local/lib/python3.6/dist-packages (from transformers) (2.23.0)\n",
            "Requirement already satisfied: numpy in /usr/local/lib/python3.6/dist-packages (from transformers) (1.19.4)\n",
            "Requirement already satisfied: packaging in /usr/local/lib/python3.6/dist-packages (from transformers) (20.8)\n",
            "Requirement already satisfied: regex!=2019.12.17 in /usr/local/lib/python3.6/dist-packages (from transformers) (2019.12.20)\n",
            "Requirement already satisfied: filelock in /usr/local/lib/python3.6/dist-packages (from transformers) (3.0.12)\n",
            "Collecting tokenizers==0.9.4\n",
            "\u001b[?25l  Downloading https://files.pythonhosted.org/packages/0f/1c/e789a8b12e28be5bc1ce2156cf87cb522b379be9cadc7ad8091a4cc107c4/tokenizers-0.9.4-cp36-cp36m-manylinux2010_x86_64.whl (2.9MB)\n",
            "\u001b[K     |████████████████████████████████| 2.9MB 30.8MB/s \n",
            "\u001b[?25hRequirement already satisfied: tqdm>=4.27 in /usr/local/lib/python3.6/dist-packages (from transformers) (4.41.1)\n",
            "Collecting sacremoses\n",
            "\u001b[?25l  Downloading https://files.pythonhosted.org/packages/7d/34/09d19aff26edcc8eb2a01bed8e98f13a1537005d31e95233fd48216eed10/sacremoses-0.0.43.tar.gz (883kB)\n",
            "\u001b[K     |████████████████████████████████| 890kB 37.7MB/s \n",
            "\u001b[?25hRequirement already satisfied: dataclasses; python_version < \"3.7\" in /usr/local/lib/python3.6/dist-packages (from transformers) (0.8)\n",
            "Requirement already satisfied: idna<3,>=2.5 in /usr/local/lib/python3.6/dist-packages (from requests->transformers) (2.10)\n",
            "Requirement already satisfied: urllib3!=1.25.0,!=1.25.1,<1.26,>=1.21.1 in /usr/local/lib/python3.6/dist-packages (from requests->transformers) (1.24.3)\n",
            "Requirement already satisfied: certifi>=2017.4.17 in /usr/local/lib/python3.6/dist-packages (from requests->transformers) (2020.12.5)\n",
            "Requirement already satisfied: chardet<4,>=3.0.2 in /usr/local/lib/python3.6/dist-packages (from requests->transformers) (3.0.4)\n",
            "Requirement already satisfied: pyparsing>=2.0.2 in /usr/local/lib/python3.6/dist-packages (from packaging->transformers) (2.4.7)\n",
            "Requirement already satisfied: six in /usr/local/lib/python3.6/dist-packages (from sacremoses->transformers) (1.15.0)\n",
            "Requirement already satisfied: click in /usr/local/lib/python3.6/dist-packages (from sacremoses->transformers) (7.1.2)\n",
            "Requirement already satisfied: joblib in /usr/local/lib/python3.6/dist-packages (from sacremoses->transformers) (1.0.0)\n",
            "Building wheels for collected packages: sacremoses\n",
            "  Building wheel for sacremoses (setup.py) ... \u001b[?25l\u001b[?25hdone\n",
            "  Created wheel for sacremoses: filename=sacremoses-0.0.43-cp36-none-any.whl size=893261 sha256=e74aecaa7f11912cec84126c3be67d08085de1f9fc496dc077c8d39d55de0dd9\n",
            "  Stored in directory: /root/.cache/pip/wheels/29/3c/fd/7ce5c3f0666dab31a50123635e6fb5e19ceb42ce38d4e58f45\n",
            "Successfully built sacremoses\n",
            "Installing collected packages: tokenizers, sacremoses, transformers\n",
            "Successfully installed sacremoses-0.0.43 tokenizers-0.9.4 transformers-4.1.1\n"
          ],
          "name": "stdout"
        }
      ]
    },
    {
      "cell_type": "code",
      "metadata": {
        "id": "tyanNAvqU4qE",
        "colab": {
          "base_uri": "https://localhost:8080/"
        },
        "outputId": "4bb6ea1e-ac35-468e-c6d6-71cba5173dcf"
      },
      "source": [
        "pip install tensorboardX\n"
      ],
      "execution_count": null,
      "outputs": [
        {
          "output_type": "stream",
          "text": [
            "Collecting tensorboardX\n",
            "\u001b[?25l  Downloading https://files.pythonhosted.org/packages/af/0c/4f41bcd45db376e6fe5c619c01100e9b7531c55791b7244815bac6eac32c/tensorboardX-2.1-py2.py3-none-any.whl (308kB)\n",
            "\r\u001b[K     |█                               | 10kB 25.2MB/s eta 0:00:01\r\u001b[K     |██▏                             | 20kB 30.8MB/s eta 0:00:01\r\u001b[K     |███▏                            | 30kB 14.8MB/s eta 0:00:01\r\u001b[K     |████▎                           | 40kB 10.7MB/s eta 0:00:01\r\u001b[K     |█████▎                          | 51kB 7.4MB/s eta 0:00:01\r\u001b[K     |██████▍                         | 61kB 8.4MB/s eta 0:00:01\r\u001b[K     |███████▍                        | 71kB 7.9MB/s eta 0:00:01\r\u001b[K     |████████▌                       | 81kB 8.8MB/s eta 0:00:01\r\u001b[K     |█████████▌                      | 92kB 8.2MB/s eta 0:00:01\r\u001b[K     |██████████▋                     | 102kB 8.4MB/s eta 0:00:01\r\u001b[K     |███████████▊                    | 112kB 8.4MB/s eta 0:00:01\r\u001b[K     |████████████▊                   | 122kB 8.4MB/s eta 0:00:01\r\u001b[K     |█████████████▉                  | 133kB 8.4MB/s eta 0:00:01\r\u001b[K     |██████████████▉                 | 143kB 8.4MB/s eta 0:00:01\r\u001b[K     |████████████████                | 153kB 8.4MB/s eta 0:00:01\r\u001b[K     |█████████████████               | 163kB 8.4MB/s eta 0:00:01\r\u001b[K     |██████████████████              | 174kB 8.4MB/s eta 0:00:01\r\u001b[K     |███████████████████             | 184kB 8.4MB/s eta 0:00:01\r\u001b[K     |████████████████████▏           | 194kB 8.4MB/s eta 0:00:01\r\u001b[K     |█████████████████████▎          | 204kB 8.4MB/s eta 0:00:01\r\u001b[K     |██████████████████████▎         | 215kB 8.4MB/s eta 0:00:01\r\u001b[K     |███████████████████████▍        | 225kB 8.4MB/s eta 0:00:01\r\u001b[K     |████████████████████████▍       | 235kB 8.4MB/s eta 0:00:01\r\u001b[K     |█████████████████████████▌      | 245kB 8.4MB/s eta 0:00:01\r\u001b[K     |██████████████████████████▌     | 256kB 8.4MB/s eta 0:00:01\r\u001b[K     |███████████████████████████▋    | 266kB 8.4MB/s eta 0:00:01\r\u001b[K     |████████████████████████████▋   | 276kB 8.4MB/s eta 0:00:01\r\u001b[K     |█████████████████████████████▊  | 286kB 8.4MB/s eta 0:00:01\r\u001b[K     |██████████████████████████████▊ | 296kB 8.4MB/s eta 0:00:01\r\u001b[K     |███████████████████████████████▉| 307kB 8.4MB/s eta 0:00:01\r\u001b[K     |████████████████████████████████| 317kB 8.4MB/s \n",
            "\u001b[?25hRequirement already satisfied: numpy in /usr/local/lib/python3.6/dist-packages (from tensorboardX) (1.19.4)\n",
            "Requirement already satisfied: protobuf>=3.8.0 in /usr/local/lib/python3.6/dist-packages (from tensorboardX) (3.12.4)\n",
            "Requirement already satisfied: six in /usr/local/lib/python3.6/dist-packages (from tensorboardX) (1.15.0)\n",
            "Requirement already satisfied: setuptools in /usr/local/lib/python3.6/dist-packages (from protobuf>=3.8.0->tensorboardX) (51.0.0)\n",
            "Installing collected packages: tensorboardX\n",
            "Successfully installed tensorboardX-2.1\n"
          ],
          "name": "stdout"
        }
      ]
    },
    {
      "cell_type": "code",
      "metadata": {
        "id": "9PXl583EVDP9",
        "colab": {
          "base_uri": "https://localhost:8080/"
        },
        "outputId": "72190013-7334-43b4-824e-411351384bc6"
      },
      "source": [
        "pip install scrapbook"
      ],
      "execution_count": null,
      "outputs": [
        {
          "output_type": "stream",
          "text": [
            "Collecting scrapbook\n",
            "  Downloading https://files.pythonhosted.org/packages/eb/22/5c55a90934780daedc2747c8e40bae814adff393da1aca0fae577d13c00d/scrapbook-0.2.0.tar.gz\n",
            "Collecting parsel>=1.2.0\n",
            "  Downloading https://files.pythonhosted.org/packages/23/1e/9b39d64cbab79d4362cdd7be7f5e9623d45c4a53b3f7522cd8210df52d8e/parsel-1.6.0-py2.py3-none-any.whl\n",
            "Requirement already satisfied: six>=1.10.0 in /usr/local/lib/python3.6/dist-packages (from scrapbook) (1.15.0)\n",
            "Requirement already satisfied: lxml in /usr/local/lib/python3.6/dist-packages (from parsel>=1.2.0->scrapbook) (4.2.6)\n",
            "Collecting cssselect>=0.9\n",
            "  Downloading https://files.pythonhosted.org/packages/3b/d4/3b5c17f00cce85b9a1e6f91096e1cc8e8ede2e1be8e96b87ce1ed09e92c5/cssselect-1.1.0-py2.py3-none-any.whl\n",
            "Collecting w3lib>=1.19.0\n",
            "  Downloading https://files.pythonhosted.org/packages/a3/59/b6b14521090e7f42669cafdb84b0ab89301a42f1f1a82fcf5856661ea3a7/w3lib-1.22.0-py2.py3-none-any.whl\n",
            "Building wheels for collected packages: scrapbook\n",
            "  Building wheel for scrapbook (setup.py) ... \u001b[?25l\u001b[?25hdone\n",
            "  Created wheel for scrapbook: filename=scrapbook-0.2.0-cp36-none-any.whl size=4886 sha256=dba2d4d70ba4f3d7560ecd87fb7e49d9c90e94b4f42ce72c715d043832495429\n",
            "  Stored in directory: /root/.cache/pip/wheels/35/4e/3e/b23f6c97e73fdcae44d7a5c8c22024b8e9410c1a20fe61f864\n",
            "Successfully built scrapbook\n",
            "Installing collected packages: cssselect, w3lib, parsel, scrapbook\n",
            "Successfully installed cssselect-1.1.0 parsel-1.6.0 scrapbook-0.2.0 w3lib-1.22.0\n"
          ],
          "name": "stdout"
        }
      ]
    },
    {
      "cell_type": "code",
      "metadata": {
        "colab": {
          "base_uri": "https://localhost:8080/"
        },
        "id": "Tdb1uaGUUqQ8",
        "outputId": "970991bd-48b2-4f82-df27-2b832f64e7db"
      },
      "source": [
        "pip install py-rouge"
      ],
      "execution_count": null,
      "outputs": [
        {
          "output_type": "stream",
          "text": [
            "Collecting py-rouge\n",
            "\u001b[?25l  Downloading https://files.pythonhosted.org/packages/9c/1d/0bdbaf559fb7afe32308ebc84a2028600988212d7eb7fb9f69c4e829e4a0/py_rouge-1.1-py3-none-any.whl (56kB)\n",
            "\r\u001b[K     |█████▊                          | 10kB 20.2MB/s eta 0:00:01\r\u001b[K     |███████████▌                    | 20kB 18.2MB/s eta 0:00:01\r\u001b[K     |█████████████████▎              | 30kB 14.6MB/s eta 0:00:01\r\u001b[K     |███████████████████████         | 40kB 13.2MB/s eta 0:00:01\r\u001b[K     |████████████████████████████▉   | 51kB 8.8MB/s eta 0:00:01\r\u001b[K     |████████████████████████████████| 61kB 5.5MB/s \n",
            "\u001b[?25hInstalling collected packages: py-rouge\n",
            "Successfully installed py-rouge-1.1\n"
          ],
          "name": "stdout"
        }
      ]
    },
    {
      "cell_type": "code",
      "metadata": {
        "id": "zqWRCT_sixNj",
        "colab": {
          "base_uri": "https://localhost:8080/"
        },
        "outputId": "a8e0210e-f28e-4bff-b3b0-cc784ec0bfea"
      },
      "source": [
        "pip install https://github.com/pytorch/text/archive/master.zip\n"
      ],
      "execution_count": null,
      "outputs": [
        {
          "output_type": "stream",
          "text": [
            "Collecting https://github.com/pytorch/text/archive/master.zip\n",
            "  Using cached https://github.com/pytorch/text/archive/master.zip\n",
            "Requirement already satisfied (use --upgrade to upgrade): torchtext==0.9.0a0 from https://github.com/pytorch/text/archive/master.zip in ./src/torchtext\n",
            "Requirement already satisfied: tqdm in /usr/local/lib/python3.6/dist-packages (from torchtext==0.9.0a0) (4.41.1)\n",
            "Requirement already satisfied: requests in /usr/local/lib/python3.6/dist-packages (from torchtext==0.9.0a0) (2.21.0)\n",
            "Requirement already satisfied: torch in /usr/local/lib/python3.6/dist-packages (from torchtext==0.9.0a0) (1.7.0+cu101)\n",
            "Requirement already satisfied: numpy in /usr/local/lib/python3.6/dist-packages (from torchtext==0.9.0a0) (1.18.5)\n",
            "Requirement already satisfied: certifi>=2017.4.17 in /usr/local/lib/python3.6/dist-packages (from requests->torchtext==0.9.0a0) (2020.12.5)\n",
            "Requirement already satisfied: idna<2.9,>=2.5 in /usr/local/lib/python3.6/dist-packages (from requests->torchtext==0.9.0a0) (2.8)\n",
            "Requirement already satisfied: urllib3<1.25,>=1.21.1 in /usr/local/lib/python3.6/dist-packages (from requests->torchtext==0.9.0a0) (1.24.3)\n",
            "Requirement already satisfied: chardet<3.1.0,>=3.0.2 in /usr/local/lib/python3.6/dist-packages (from requests->torchtext==0.9.0a0) (3.0.4)\n",
            "Requirement already satisfied: typing-extensions in /usr/local/lib/python3.6/dist-packages (from torch->torchtext==0.9.0a0) (3.7.4.3)\n",
            "Requirement already satisfied: dataclasses in /usr/local/lib/python3.6/dist-packages (from torch->torchtext==0.9.0a0) (0.8)\n",
            "Requirement already satisfied: future in /usr/local/lib/python3.6/dist-packages (from torch->torchtext==0.9.0a0) (0.16.0)\n",
            "Building wheels for collected packages: torchtext\n",
            "  Building wheel for torchtext (setup.py) ... \u001b[?25lerror\n",
            "\u001b[31m  ERROR: Failed building wheel for torchtext\u001b[0m\n",
            "\u001b[?25h  Running setup.py clean for torchtext\n",
            "Failed to build torchtext\n"
          ],
          "name": "stdout"
        }
      ]
    },
    {
      "cell_type": "code",
      "metadata": {
        "id": "3T3hcBMaiyeZ",
        "colab": {
          "base_uri": "https://localhost:8080/"
        },
        "outputId": "6e102c87-26d1-4bbf-bcfd-2d50ded1b55f"
      },
      "source": [
        "pip install requests==2.21.0\n"
      ],
      "execution_count": null,
      "outputs": [
        {
          "output_type": "stream",
          "text": [
            "Requirement already satisfied: requests==2.21.0 in /usr/local/lib/python3.6/dist-packages (2.21.0)\n",
            "Requirement already satisfied: urllib3<1.25,>=1.21.1 in /usr/local/lib/python3.6/dist-packages (from requests==2.21.0) (1.24.3)\n",
            "Requirement already satisfied: idna<2.9,>=2.5 in /usr/local/lib/python3.6/dist-packages (from requests==2.21.0) (2.8)\n",
            "Requirement already satisfied: certifi>=2017.4.17 in /usr/local/lib/python3.6/dist-packages (from requests==2.21.0) (2020.12.5)\n",
            "Requirement already satisfied: chardet<3.1.0,>=3.0.2 in /usr/local/lib/python3.6/dist-packages (from requests==2.21.0) (3.0.4)\n"
          ],
          "name": "stdout"
        }
      ]
    },
    {
      "cell_type": "code",
      "metadata": {
        "id": "Xii5-mJ5hnk2"
      },
      "source": [
        "#from google.colab import drive\n",
        "#drive.mount('/content/drive')"
      ],
      "execution_count": null,
      "outputs": []
    },
    {
      "cell_type": "markdown",
      "metadata": {
        "id": "fum6Rn5ww9hr"
      },
      "source": [
        ""
      ]
    },
    {
      "cell_type": "markdown",
      "metadata": {
        "id": "e8m3W4_QxAPI"
      },
      "source": [
        "###First"
      ]
    },
    {
      "cell_type": "code",
      "metadata": {
        "id": "PBW--JSZw9-H"
      },
      "source": [
        "%load_ext autoreload\n",
        "\n",
        "%autoreload 2"
      ],
      "execution_count": null,
      "outputs": []
    },
    {
      "cell_type": "code",
      "metadata": {
        "tags": [
          "parameters"
        ],
        "id": "fcsBr5Zow9-H"
      },
      "source": [
        "## Set QUICK_RUN = True to run the notebook on a small subset of data and a smaller number of epochs.\n",
        "QUICK_RUN = True\n",
        "## Set USE_PREPROCSSED_DATA = True to skip the data preprocessing\n",
        "USE_PREPROCSSED_DATA = True"
      ],
      "execution_count": null,
      "outputs": []
    },
    {
      "cell_type": "markdown",
      "metadata": {
        "id": "uuVJUWGogiDA"
      },
      "source": [
        "\n",
        "### Configuration: choose the transformer model to be used"
      ]
    },
    {
      "cell_type": "code",
      "metadata": {
        "id": "DCzgu4angiDA",
        "colab": {
          "base_uri": "https://localhost:8080/"
        },
        "outputId": "df926bfb-990f-45f9-f082-e43e84c3f201"
      },
      "source": [
        "import os\n",
        "import shutil\n",
        "import sys\n",
        "from tempfile import TemporaryDirectory\n",
        "import torch\n",
        "\n",
        "nlp_path = os.path.abspath(\"../../\")\n",
        "print(nlp_path)\n",
        "if nlp_path not in sys.path:\n",
        "    sys.path.insert(0, nlp_path)\n",
        "\n",
        "from utils_nlp.dataset.cnndm import CNNDMBertSumProcessedData, CNNDMSummarizationDataset\n",
        "from utils_nlp.eval import compute_rouge_python, compute_rouge_perl\n",
        "from utils_nlp.models.transformers.extractive_summarization import (\n",
        "    ExtractiveSummarizer,\n",
        "    ExtSumProcessedData,\n",
        "    ExtSumProcessor,)\n",
        "\n",
        "from utils_nlp.models.transformers.datasets import SummarizationDataset\n",
        "import nltk\n",
        "from nltk import tokenize\n",
        "\n",
        "import pandas as pd\n",
        "import scrapbook as sb\n",
        "import pprint"
      ],
      "execution_count": null,
      "outputs": [
        {
          "output_type": "stream",
          "text": [
            "/\n"
          ],
          "name": "stdout"
        }
      ]
    },
    {
      "cell_type": "code",
      "metadata": {
        "id": "ybWQXTCy5mRL"
      },
      "source": [
        "''' if error generated as  'extract_files not defined ' then copy the extract_files fucntion from\r\n",
        "    https://github.com/pytorch/text/blob/master/torchtext/utils.py and paste it in cnndm.py file'''"
      ],
      "execution_count": null,
      "outputs": []
    },
    {
      "cell_type": "markdown",
      "metadata": {
        "id": "JNtisj4WgiDA"
      },
      "source": [
        "Several pretrained models have been made available by [Hugging Face](https://github.com/huggingface/transformers). For extractive summarization, the following pretrained models are supported. "
      ]
    },
    {
      "cell_type": "code",
      "metadata": {
        "id": "dgKZ2NYOgiDB",
        "colab": {
          "base_uri": "https://localhost:8080/",
          "height": 111
        },
        "outputId": "6cbe4140-3cbf-4fd1-e983-5980abd62e75"
      },
      "source": [
        "pd.DataFrame({\"model_name\": ExtractiveSummarizer.list_supported_models()})"
      ],
      "execution_count": null,
      "outputs": [
        {
          "output_type": "execute_result",
          "data": {
            "text/html": [
              "<div>\n",
              "<style scoped>\n",
              "    .dataframe tbody tr th:only-of-type {\n",
              "        vertical-align: middle;\n",
              "    }\n",
              "\n",
              "    .dataframe tbody tr th {\n",
              "        vertical-align: top;\n",
              "    }\n",
              "\n",
              "    .dataframe thead th {\n",
              "        text-align: right;\n",
              "    }\n",
              "</style>\n",
              "<table border=\"1\" class=\"dataframe\">\n",
              "  <thead>\n",
              "    <tr style=\"text-align: right;\">\n",
              "      <th></th>\n",
              "      <th>model_name</th>\n",
              "    </tr>\n",
              "  </thead>\n",
              "  <tbody>\n",
              "    <tr>\n",
              "      <th>0</th>\n",
              "      <td>bert-base-uncased</td>\n",
              "    </tr>\n",
              "    <tr>\n",
              "      <th>1</th>\n",
              "      <td>distilbert-base-uncased</td>\n",
              "    </tr>\n",
              "  </tbody>\n",
              "</table>\n",
              "</div>"
            ],
            "text/plain": [
              "                model_name\n",
              "0        bert-base-uncased\n",
              "1  distilbert-base-uncased"
            ]
          },
          "metadata": {
            "tags": []
          },
          "execution_count": 6
        }
      ]
    },
    {
      "cell_type": "code",
      "metadata": {
        "tags": [
          "parameters"
        ],
        "id": "bQQoorONgiDB"
      },
      "source": [
        "# Transformer model being used\n",
        "MODEL_NAME = \"distilbert-base-uncased\""
      ],
      "execution_count": null,
      "outputs": []
    },
    {
      "cell_type": "code",
      "metadata": {
        "id": "uIkfuDyPgiDB",
        "colab": {
          "base_uri": "https://localhost:8080/",
          "height": 164,
          "referenced_widgets": [
            "75c0003dfeea48cc9e025f4ca2ecfa7d",
            "294955f6265c497ead654618ad8beb91",
            "04b59e4ba57f4edc9deaa4c8fe7203a5",
            "ec2eca6a2c0341ab9e799d7e9490c881",
            "acd31c9ecbaa4fc7b341aae1c9af26bb",
            "caa3d938ab0f47c38937f5fba9b45afb",
            "db411356f1ec49648913e1e15a9992e0",
            "d3a862b04511420484e60df473679242",
            "253dd51a365f411baa26ac524b088363",
            "32fb2b41e545428186ecf9b9f165c7f5",
            "0143a82bb06a4cb189055f29f464d36e",
            "619b1bfbc18e42c088892575d6fdb290",
            "10c8754ef8ea4815b7534bf7116d429a",
            "658db7d2db8b4426a988fa6c33959e3e",
            "02943f67040843c8b3fe880f8b4bb84a",
            "dccf7ea5b8b04fa0998733af847892e3",
            "ee8bf37da30847a9a54f79cbb6a31e4d",
            "8f74fb05748f4d469e8c470c4bba5778",
            "c707b1216d424835a505edb974d3dd14",
            "2709695c98f545ecb33ece3ded7ed784",
            "c8034150aa29444da0e2ee72b3b9c557",
            "141eac9b5bf64d5b9c632a9a4662ce56",
            "f958bb59f98543ee9a69ddc007809b74",
            "1171721d7cd541d5a3f5e658270016b3"
          ]
        },
        "outputId": "6f31597a-2936-4d7c-8047-776805750000"
      },
      "source": [
        "# notebook parameters\n",
        "# the cache data path during find tuning\n",
        "CACHE_DIR = TemporaryDirectory().name\n",
        "processor = ExtSumProcessor(model_name=MODEL_NAME, cache_dir=CACHE_DIR)"
      ],
      "execution_count": null,
      "outputs": [
        {
          "output_type": "display_data",
          "data": {
            "application/vnd.jupyter.widget-view+json": {
              "model_id": "75c0003dfeea48cc9e025f4ca2ecfa7d",
              "version_minor": 0,
              "version_major": 2
            },
            "text/plain": [
              "HBox(children=(FloatProgress(value=0.0, description='Downloading', max=442.0, style=ProgressStyle(description_…"
            ]
          },
          "metadata": {
            "tags": []
          }
        },
        {
          "output_type": "stream",
          "text": [
            "\n"
          ],
          "name": "stdout"
        },
        {
          "output_type": "display_data",
          "data": {
            "application/vnd.jupyter.widget-view+json": {
              "model_id": "253dd51a365f411baa26ac524b088363",
              "version_minor": 0,
              "version_major": 2
            },
            "text/plain": [
              "HBox(children=(FloatProgress(value=0.0, description='Downloading', max=231508.0, style=ProgressStyle(descripti…"
            ]
          },
          "metadata": {
            "tags": []
          }
        },
        {
          "output_type": "stream",
          "text": [
            "\n"
          ],
          "name": "stdout"
        },
        {
          "output_type": "display_data",
          "data": {
            "application/vnd.jupyter.widget-view+json": {
              "model_id": "ee8bf37da30847a9a54f79cbb6a31e4d",
              "version_minor": 0,
              "version_major": 2
            },
            "text/plain": [
              "HBox(children=(FloatProgress(value=0.0, description='Downloading', max=466062.0, style=ProgressStyle(descripti…"
            ]
          },
          "metadata": {
            "tags": []
          }
        },
        {
          "output_type": "stream",
          "text": [
            "\n"
          ],
          "name": "stdout"
        }
      ]
    },
    {
      "cell_type": "markdown",
      "metadata": {
        "id": "BJO22mXXgiDB"
      },
      "source": [
        "### Data Preprocessing\n",
        "\n",
        "The dataset we used for this notebook is CNN/DM dataset which contains the documents and accompanying questions from the news articles of CNN and Daily mail. The highlights in each article are used as summary. The dataset consits of ~289K training examples, ~11K valiation examples and ~11K test examples.  You can choose the [Option 1] below preprocess the data or [Option 2] to use the preprocessed version at [BERTSum published example](https://github.com/nlpyang/BertSum/). You don't need to manually download any of these two data sets as the code below will handle downloading. Functions defined specific in [cnndm.py](../../utils_nlp/dataset/cnndm.py) are unique to CNN/DM dataset that's preprocessed by harvardnlp. However, it provides a skeleton of how to preprocessing text into the format that model preprocessor takes: sentence tokenization and work tokenization. \n",
        "\n",
        "##### Details of Data Preprocessing\n",
        "\n",
        "The purpose of preprocessing is to process the input articles to the format that model finetuning needed. Assuming you have (1) all articles and (2) target summaries, each in a file and line-breaker separated, the steps to preprocess the data are:\n",
        "1. sentence tokenization\n",
        "2. word tokenization\n",
        "3. **label** the sentences in the article with 1 meaning the sentence is selected and 0 meaning the sentence is not selected. The algorithms for the sentence selection are \"greedy\" and \"combination\" and can be found in [sentence_selection.py](../../utils_nlp/dataset/sentence_selection.py)\n",
        "3. convert each example to  the desired format for extractive summarization\n",
        "    - filter the sentences in the example based on the min_src_ntokens argument. If the lefted total sentence number is less than min_nsents, the example is discarded.\n",
        "    - truncate the sentences in the example if the length is greater than max_src_ntokens\n",
        "    - truncate the sentences in the example and the labels if the total number of sentences is greater than max_nsents\n",
        "    - [CLS] and [SEP] are inserted before and after each sentence\n",
        "    - wordPiece tokenization or Byte Pair Encoding (BPE) subword tokenization\n",
        "    - truncate the example to 512 tokens\n",
        "    - convert the tokens into token indices corresponding to the transformer tokenizer's vocabulary.\n",
        "    - segment ids are generated and added\n",
        "    - [CLS] token positions are logged\n",
        "    - [CLS] token labels are truncated if it's greater than 512, which is the maximum input length that can be taken by the transformer model.\n",
        "    \n",
        "    \n",
        "Note that the original BERTSum paper use Stanford CoreNLP for data preprocessing, here we use NLTK for data preprocessing. "
      ]
    },
    {
      "cell_type": "markdown",
      "metadata": {
        "id": "VihzACPvgiDB"
      },
      "source": [
        "##### [Option 1] Preprocess  data (Please skil this part if you choose to use preprocessed data)\n",
        "The code in following cell will download the CNN/DM dataset listed at https://github.com/harvardnlp/sent-summary/."
      ]
    },
    {
      "cell_type": "code",
      "metadata": {
        "tags": [
          "parameters"
        ],
        "id": "8zumPKwOgiDB"
      },
      "source": [
        "# the data path used to save the downloaded data file\n",
        "DATA_PATH = TemporaryDirectory().name\n",
        "# The number of lines at the head of data file used for preprocessing. -1 means all the lines.\n",
        "TOP_N = 1000\n",
        "if not QUICK_RUN:\n",
        "    TOP_N = -1"
      ],
      "execution_count": null,
      "outputs": []
    },
    {
      "cell_type": "code",
      "metadata": {
        "scrolled": false,
        "id": "BmxbY0UDgiDB"
      },
      "source": [
        "train_dataset, test_dataset = CNNDMSummarizationDataset(top_n=TOP_N, local_cache_path=DATA_PATH)"
      ],
      "execution_count": null,
      "outputs": []
    },
    {
      "cell_type": "markdown",
      "metadata": {
        "id": "Bq8w1stWgiDB"
      },
      "source": [
        "Preprocess the data."
      ]
    },
    {
      "cell_type": "code",
      "metadata": {
        "scrolled": false,
        "id": "_F6b4C3IgiDB"
      },
      "source": [
        "ext_sum_train = processor.preprocess(train_dataset, oracle_mode=\"greedy\")\n",
        "ext_sum_test = processor.preprocess(test_dataset, oracle_mode=\"greedy\")\n"
      ],
      "execution_count": null,
      "outputs": []
    },
    {
      "cell_type": "code",
      "metadata": {
        "scrolled": true,
        "id": "pErvZSM4giDC",
        "colab": {
          "base_uri": "https://localhost:8080/",
          "height": 52
        },
        "outputId": "a865e896-f77d-459b-df84-41fb299d1532"
      },
      "source": [
        "\"\"\"\n",
        "# save and load preprocessed data\n",
        "save_path = os.path.join(DATA_PATH, \"processed\")\n",
        "torch.save(ext_sum_train, os.path.join(save_path, \"train_full.pt\"))\n",
        "torch.save(ext_sum_test, os.path.join(save_path, \"test_full.pt\"))\n",
        "\n",
        "\"\"\"\n",
        "# ext_sum_train = torch.load(os.path.join(save_path, \"train_full.pt\"))\n",
        "# ext_sum_test = torch.load(os.path.join(save_path, \"test_full.pt\"))"
      ],
      "execution_count": null,
      "outputs": [
        {
          "output_type": "execute_result",
          "data": {
            "application/vnd.google.colaboratory.intrinsic+json": {
              "type": "string"
            },
            "text/plain": [
              "'\\n# save and load preprocessed data\\nsave_path = os.path.join(DATA_PATH, \"processed\")\\ntorch.save(ext_sum_train, os.path.join(save_path, \"train_full.pt\"))\\ntorch.save(ext_sum_test, os.path.join(save_path, \"test_full.pt\"))\\n\\n'"
            ]
          },
          "metadata": {
            "tags": []
          },
          "execution_count": 11
        }
      ]
    },
    {
      "cell_type": "code",
      "metadata": {
        "id": "cuOKgf6FgiDC",
        "colab": {
          "base_uri": "https://localhost:8080/"
        },
        "outputId": "95651537-aef5-4295-bff8-6f88bd9f1b9a"
      },
      "source": [
        "len(ext_sum_train)"
      ],
      "execution_count": null,
      "outputs": [
        {
          "output_type": "execute_result",
          "data": {
            "text/plain": [
              "995"
            ]
          },
          "metadata": {
            "tags": []
          },
          "execution_count": 12
        }
      ]
    },
    {
      "cell_type": "code",
      "metadata": {
        "id": "h7PyDA76giDC",
        "colab": {
          "base_uri": "https://localhost:8080/"
        },
        "outputId": "a78e9b88-8973-4a0d-c692-dd2a87963677"
      },
      "source": [
        "len(ext_sum_test)"
      ],
      "execution_count": null,
      "outputs": [
        {
          "output_type": "execute_result",
          "data": {
            "text/plain": [
              "1000"
            ]
          },
          "metadata": {
            "tags": []
          },
          "execution_count": 13
        }
      ]
    },
    {
      "cell_type": "markdown",
      "metadata": {
        "id": "RBVs_lJFgiDC"
      },
      "source": [
        "#### Inspect Data"
      ]
    },
    {
      "cell_type": "code",
      "metadata": {
        "id": "9W-E_BLsgiDC"
      },
      "source": [
        "ext_sum_train[0]"
      ],
      "execution_count": null,
      "outputs": []
    },
    {
      "cell_type": "code",
      "metadata": {
        "scrolled": false,
        "id": "e5-e5q1vgiDC",
        "colab": {
          "base_uri": "https://localhost:8080/"
        },
        "outputId": "438f4b59-4418-4e76-e944-54ad07c82720"
      },
      "source": [
        "ext_sum_train[0].keys()"
      ],
      "execution_count": null,
      "outputs": [
        {
          "output_type": "execute_result",
          "data": {
            "text/plain": [
              "dict_keys(['src', 'src_txt', 'tgt', 'tgt_txt', 'oracle_ids'])"
            ]
          },
          "metadata": {
            "tags": []
          },
          "execution_count": 15
        }
      ]
    },
    {
      "cell_type": "markdown",
      "metadata": {
        "id": "-ht6w7spgiDC"
      },
      "source": [
        "##### [Option 2] Reuse Preprocessed  data from [BERTSUM Repo](https://github.com/nlpyang/BertSum)"
      ]
    },
    {
      "cell_type": "code",
      "metadata": {
        "tags": [
          "parameters",
          ":w"
        ],
        "id": "rEjLJhQkgiDC"
      },
      "source": [
        "# the data path used to downloaded the preprocessed data from BERTSUM Repo.\n",
        "# if you have downloaded the dataset, change the code to use that path where the dataset is.\n",
        "PROCESSED_DATA_PATH = TemporaryDirectory().name\n",
        "os.makedirs(PROCESSED_DATA_PATH, exist_ok=True)\n",
        "#data_path = \"./temp_data5/\"\n",
        "#PROCESSED_DATA_PATH = data_path"
      ],
      "execution_count": null,
      "outputs": []
    },
    {
      "cell_type": "code",
      "metadata": {
        "id": "r1lDGQIpgiDC",
        "colab": {
          "base_uri": "https://localhost:8080/"
        },
        "outputId": "89e5c8ee-f0a1-409e-e442-8d3b812bec0a"
      },
      "source": [
        "if USE_PREPROCSSED_DATA:\n",
        "    download_path = CNNDMBertSumProcessedData.download(local_path=PROCESSED_DATA_PATH)\n",
        "    ext_sum_train, ext_sum_test = ExtSumProcessedData().splits(root=download_path, train_iterable=True)\n",
        "    "
      ],
      "execution_count": null,
      "outputs": [
        {
          "output_type": "stream",
          "text": [
            "Downloading 1x0d61LP9UAN389YN00z0Pv-7jQgirVg6 into /tmp/tmp9edwa9hb/bertsum_data.zip... Done.\n"
          ],
          "name": "stdout"
        }
      ]
    },
    {
      "cell_type": "markdown",
      "metadata": {
        "id": "LpfociyYgiDC"
      },
      "source": [
        "### Model training\n",
        "To start model training, we need to create a instance of ExtractiveSummarizer.\n",
        "#### Choose the transformer model.\n",
        "Currently ExtractiveSummarizer support two models:\n",
        "- distilbert-base-uncase, \n",
        "- bert-base-uncase\n",
        "\n",
        "Potentionally, roberta-based model and xlnet can be supported but needs to be tested.\n",
        "#### Choose the encoder algorithm.\n",
        "There are four options:\n",
        "- baseline: it used a smaller transformer model to replace the bert model and with transformer summarization layer\n",
        "- classifier: it uses pretrained BERT and fine-tune BERT with **simple logistic classification** summarization layer\n",
        "- transformer: it uses pretrained BERT and fine-tune BERT with **transformer** summarization layer\n",
        "- RNN: it uses pretrained BERT and fine-tune BERT with **LSTM** summarization layer"
      ]
    },
    {
      "cell_type": "code",
      "metadata": {
        "tags": [
          "parameters"
        ],
        "id": "tdCTzttIgiDC"
      },
      "source": [
        "BATCH_SIZE = 5 # batch size, unit is the number of samples\n",
        "MAX_POS_LENGTH = 512\n",
        "if USE_PREPROCSSED_DATA: #if bertsum published data is used\n",
        "    BATCH_SIZE = 3000 # batch size, unit is the number of tokens\n",
        "    MAX_POS_LENGTH = 512\n",
        "    \n",
        "\n",
        "\n",
        "# GPU used for training\n",
        "NUM_GPUS = torch.cuda.device_count()\n",
        "\n",
        "# Encoder name. Options are: 1. baseline, classifier, transformer, rnn.\n",
        "ENCODER = \"classifier\"\n",
        "\n",
        "# Learning rate\n",
        "LEARNING_RATE=2e-3\n",
        "\n",
        "# How often the statistics reports show up in training, unit is step.\n",
        "REPORT_EVERY=100\n",
        "\n",
        "# total number of steps for training\n",
        "MAX_STEPS=1e2\n",
        "# number of steps for warm up\n",
        "WARMUP_STEPS=5e2\n",
        "    \n",
        "if not QUICK_RUN:\n",
        "    MAX_STEPS=5e4\n",
        "    WARMUP_STEPS=5e3\n",
        " "
      ],
      "execution_count": null,
      "outputs": []
    },
    {
      "cell_type": "code",
      "metadata": {
        "scrolled": true,
        "id": "WfDUbRzYgiDC",
        "colab": {
          "base_uri": "https://localhost:8080/",
          "height": 66,
          "referenced_widgets": [
            "1819ca11cfe34793836b42dbde4751f7",
            "7150fd480d334e32b1ca3b520d7596d8",
            "49e2092ea37a4a9e9498e3e248b6b507",
            "673f9e79240d42ab927d237be615c387",
            "5fce2379b1d140b78aedb2afddbbd5bf",
            "b6087fa1d6364730bd45598dfb33dd48",
            "aff6ad68277a41739e18e13e6bfe05e3",
            "803053eabbd14209af82aeebc779a0bd"
          ]
        },
        "outputId": "c0b9e70a-2422-4cd1-b4db-1163556dbcc7"
      },
      "source": [
        "summarizer = ExtractiveSummarizer(processor, MODEL_NAME, ENCODER, MAX_POS_LENGTH, CACHE_DIR)"
      ],
      "execution_count": null,
      "outputs": [
        {
          "output_type": "display_data",
          "data": {
            "application/vnd.jupyter.widget-view+json": {
              "model_id": "1819ca11cfe34793836b42dbde4751f7",
              "version_minor": 0,
              "version_major": 2
            },
            "text/plain": [
              "HBox(children=(FloatProgress(value=0.0, description='Downloading', max=267967963.0, style=ProgressStyle(descri…"
            ]
          },
          "metadata": {
            "tags": []
          }
        },
        {
          "output_type": "stream",
          "text": [
            "\n"
          ],
          "name": "stdout"
        }
      ]
    },
    {
      "cell_type": "code",
      "metadata": {
        "scrolled": true,
        "id": "4YRq7iqigiDC",
        "colab": {
          "base_uri": "https://localhost:8080/"
        },
        "outputId": "06ef8767-0bb7-42c5-b44d-588fccd7547c"
      },
      "source": [
        "\n",
        "summarizer.fit(\n",
        "            ext_sum_train,\n",
        "            num_gpus=NUM_GPUS,\n",
        "            batch_size=BATCH_SIZE,\n",
        "            gradient_accumulation_steps=2,\n",
        "            max_steps=MAX_STEPS,\n",
        "            learning_rate=LEARNING_RATE,\n",
        "            warmup_steps=WARMUP_STEPS,\n",
        "            verbose=True,\n",
        "            report_every=REPORT_EVERY,\n",
        "            clip_grad_norm=False,\n",
        "            use_preprocessed_data=USE_PREPROCSSED_DATA\n",
        "        )"
      ],
      "execution_count": null,
      "outputs": [
        {
          "output_type": "stream",
          "text": [
            "Iteration: 200it [01:00,  3.30it/s]"
          ],
          "name": "stderr"
        },
        {
          "output_type": "stream",
          "text": [
            "timestamp: 16/12/2020 13:57:48, average loss: 41.630460, time duration: 60.163095,\n",
            "                            number of examples in current reporting: 1006, step 100\n",
            "                            out of total 100\n"
          ],
          "name": "stdout"
        },
        {
          "output_type": "stream",
          "text": [
            "Iteration: 201it [01:00,  3.31it/s]\n"
          ],
          "name": "stderr"
        }
      ]
    },
    {
      "cell_type": "code",
      "metadata": {
        "id": "cwdCUmlogiDC",
        "colab": {
          "base_uri": "https://localhost:8080/"
        },
        "outputId": "52315153-4804-4cad-e02d-6c1d521aa85c"
      },
      "source": [
        "summarizer.save_model(\n",
        "    os.path.join(\n",
        "        CACHE_DIR,\n",
        "        \"extsum_modelname_{0}_usepreprocess{1}_steps_{2}.pt\".format(\n",
        "            MODEL_NAME, USE_PREPROCSSED_DATA, MAX_STEPS\n",
        "        ),\n",
        "    )\n",
        ")"
      ],
      "execution_count": null,
      "outputs": [
        {
          "output_type": "stream",
          "text": [
            "saving through pytorch\n"
          ],
          "name": "stdout"
        }
      ]
    },
    {
      "cell_type": "code",
      "metadata": {
        "id": "IGtMz2LygiDC"
      },
      "source": [
        "# for loading a previous saved model\n",
        "\"\"\"\n",
        "import torch\n",
        "model_path = os.path.join(\n",
        "        CACHE_DIR,\n",
        "        \"extsum_modelname_{0}_usepreprocess{1}_steps_{2}.pt\".format(\n",
        "            MODEL_NAME, USE_PREPROCSSED_DATA, MAX_STEPS\n",
        "        ))\n",
        "summarizer = ExtractiveSummarizer(processor, MODEL_NAME, ENCODER, MAX_POS_LENGTH, CACHE_DIR)\n",
        "summarizer.model.load_state_dict(torch.load(model_path, map_location=\"cpu\"))\n",
        "\"\"\""
      ],
      "execution_count": null,
      "outputs": []
    },
    {
      "cell_type": "markdown",
      "metadata": {
        "id": "FVCBjUUrgiDD"
      },
      "source": [
        "### Model Evaluation\n",
        "\n",
        "[ROUGE](https://en.wikipedia.org/wiki/ROUGE_(metric)), or Recall-Oriented Understudy for Gisting Evaluation has been commonly used for evaluating text summarization."
      ]
    },
    {
      "cell_type": "code",
      "metadata": {
        "id": "dcaWvTfhgiDD",
        "colab": {
          "base_uri": "https://localhost:8080/"
        },
        "outputId": "58928d3a-0742-4d3d-b0ba-8c91912433c3"
      },
      "source": [
        "ext_sum_test[0].keys()"
      ],
      "execution_count": null,
      "outputs": [
        {
          "output_type": "execute_result",
          "data": {
            "text/plain": [
              "dict_keys(['src', 'labels', 'segs', 'clss', 'src_txt', 'tgt_txt'])"
            ]
          },
          "metadata": {
            "tags": []
          },
          "execution_count": 12
        }
      ]
    },
    {
      "cell_type": "code",
      "metadata": {
        "id": "25Vsr9u9giDD"
      },
      "source": [
        "if \"segs\" in ext_sum_test[0]: # preprocessed_data\n",
        "    source = [i['src_txt'] for i in ext_sum_test]\n",
        "    target = [\"\\n\".join(i['tgt_txt'].split(\"<q>\")) for i in ext_sum_test]\n",
        "else:\n",
        "    source = []\n",
        "    temp_target = []\n",
        "    for i in ext_sum_test:\n",
        "        source.append(i[\"src_txt\"]) \n",
        "        temp_target.append(\" \".join(j) for j in i['tgt']) \n",
        "    target = [''.join(i) for i in list(temp_target)]"
      ],
      "execution_count": null,
      "outputs": []
    },
    {
      "cell_type": "code",
      "metadata": {
        "scrolled": false,
        "id": "nb8yeBwPgiDD",
        "colab": {
          "base_uri": "https://localhost:8080/"
        },
        "outputId": "b7d9fc9e-30be-4f18-d85f-cd0626ac5d0d"
      },
      "source": [
        "%%time\n",
        "sentence_separator = \"\\n\"\n",
        "prediction = summarizer.predict(ext_sum_test, num_gpus=NUM_GPUS, batch_size=5, sentence_separator=sentence_separator)"
      ],
      "execution_count": null,
      "outputs": [
        {
          "output_type": "stream",
          "text": [
            "Scoring: 100%|██████████| 2298/2298 [03:40<00:00, 10.43it/s]\n"
          ],
          "name": "stderr"
        },
        {
          "output_type": "stream",
          "text": [
            "CPU times: user 2min 23s, sys: 1min 18s, total: 3min 42s\n",
            "Wall time: 3min 42s\n"
          ],
          "name": "stdout"
        }
      ]
    },
    {
      "cell_type": "code",
      "metadata": {
        "id": "0nCkKzF5giDD",
        "colab": {
          "base_uri": "https://localhost:8080/"
        },
        "outputId": "3aa1bf61-f22f-4253-e082-a994068a0119"
      },
      "source": [
        "len(prediction)"
      ],
      "execution_count": null,
      "outputs": [
        {
          "output_type": "execute_result",
          "data": {
            "text/plain": [
              "11489"
            ]
          },
          "metadata": {
            "tags": []
          },
          "execution_count": 15
        }
      ]
    },
    {
      "cell_type": "code",
      "metadata": {
        "id": "NWnDnFTxgiDD",
        "colab": {
          "base_uri": "https://localhost:8080/"
        },
        "outputId": "8cc6dea5-3ac5-452d-aef8-b68b417073ee"
      },
      "source": [
        "rouge_scores = compute_rouge_python(cand=prediction, ref=target)\n",
        "pprint.pprint(rouge_scores)\n"
      ],
      "execution_count": null,
      "outputs": [
        {
          "output_type": "stream",
          "text": [
            "Number of candidates: 11489\n",
            "Number of references: 11489\n",
            "{'rouge-1': {'f': 0.37951371919343274,\n",
            "             'p': 0.33519564920293937,\n",
            "             'r': 0.4763957218118309},\n",
            " 'rouge-2': {'f': 0.15674161668321718,\n",
            "             'p': 0.13895800749069379,\n",
            "             'r': 0.19613756647926556},\n",
            " 'rouge-l': {'f': 0.34404438545078103,\n",
            "             'p': 0.304160037979591,\n",
            "             'r': 0.4314214293014429}}\n"
          ],
          "name": "stdout"
        }
      ]
    },
    {
      "cell_type": "code",
      "metadata": {
        "id": "--Ti7yh8w0cK"
      },
      "source": [
        "pprint.pprint(\"ROUGE-1: {}\".format(rouge_scores[\"rouge-1\"]))\n",
        "pprint.pprint(\"ROUGE-2: {}\".format(rouge_scores[\"rouge-2\"]))\n",
        "pprint.pprint(\"ROUGE-L: {}\".format(rouge_scores[\"rouge-l\"]))"
      ],
      "execution_count": null,
      "outputs": []
    },
    {
      "cell_type": "markdown",
      "metadata": {
        "id": "_Qwzicmvx7NV"
      },
      "source": [
        "###Inspection"
      ]
    },
    {
      "cell_type": "code",
      "metadata": {
        "id": "roRaLMMxgiDD",
        "colab": {
          "base_uri": "https://localhost:8080/"
        },
        "outputId": "0f9203cb-6d69-45ef-d6bf-d100464da5f0"
      },
      "source": [
        "source[0]"
      ],
      "execution_count": null,
      "outputs": [
        {
          "output_type": "execute_result",
          "data": {
            "text/plain": [
              "['a university of iowa student has died nearly three months after a fall in rome in a suspected robbery attack in rome .',\n",
              " 'andrew mogni , 20 , from glen ellyn , illinois , had only just arrived for a semester program in italy when the incident happened in january .',\n",
              " 'he was flown back to chicago via air ambulance on march 20 , but he died on sunday .',\n",
              " 'andrew mogni , 20 , from glen ellyn , illinois , a university of iowa student has died nearly three months after a fall in rome in a suspected robbery',\n",
              " 'he was taken to a medical facility in the chicago area , close to his family home in glen ellyn .',\n",
              " \"he died on sunday at northwestern memorial hospital - medical examiner 's office spokesman frank shuftan says a cause of death wo n't be released until monday at the earliest .\",\n",
              " 'initial police reports indicated the fall was an accident but authorities are investigating the possibility that mogni was robbed .',\n",
              " \"on sunday , his cousin abby wrote online : ` this morning my cousin andrew 's soul was lifted up to heaven .\",\n",
              " 'initial police reports indicated the fall was an accident but authorities are investigating the possibility that mogni was robbed',\n",
              " '` at the beginning of january he went to rome to study aboard and on the way home from a party he was brutally attacked and thrown off a 40ft bridge and hit the concrete below .',\n",
              " \"` he was in a coma and in critical condition for months . '\",\n",
              " 'paula barnett , who said she is a close family friend , told my suburban life , that mogni had only been in the country for six hours when the incident happened .',\n",
              " 'she said he was was alone at the time of the alleged assault and personal items were stolen .',\n",
              " 'she added that he was in a non-medically induced coma , having suffered serious infection and internal bleeding .',\n",
              " 'mogni was a third-year finance major from glen ellyn , ill. , who was participating in a semester-long program at john cabot university .',\n",
              " \"mogni belonged to the school 's chapter of the sigma nu fraternity , reports the chicago tribune who posted a sign outside a building reading ` pray for mogni . '\",\n",
              " \"the fraternity 's iowa chapter announced sunday afternoon via twitter that a memorial service will be held on campus to remember mogni .\"]"
            ]
          },
          "metadata": {
            "tags": []
          },
          "execution_count": 31
        }
      ]
    },
    {
      "cell_type": "code",
      "metadata": {
        "id": "DIZQIlHhgiDD",
        "colab": {
          "base_uri": "https://localhost:8080/",
          "height": 86
        },
        "outputId": "eda6687b-f1b7-41eb-c081-e03c6196b867"
      },
      "source": [
        "target[0]"
      ],
      "execution_count": null,
      "outputs": [
        {
          "output_type": "execute_result",
          "data": {
            "application/vnd.google.colaboratory.intrinsic+json": {
              "type": "string"
            },
            "text/plain": [
              "'andrew mogni , 20 , from glen ellyn , illinois , had only just arrived for a semester program when the incident happened in january\\nhe was flown back to chicago via air on march 20 but he died on sunday\\ninitial police reports indicated the fall was an accident but authorities are investigating the possibility that mogni was robbed\\nhis cousin claims he was attacked and thrown 40ft from a bridge'"
            ]
          },
          "metadata": {
            "tags": []
          },
          "execution_count": 29
        }
      ]
    },
    {
      "cell_type": "code",
      "metadata": {
        "id": "TZvmAv0kgiDD",
        "colab": {
          "base_uri": "https://localhost:8080/",
          "height": 86
        },
        "outputId": "587bdaa8-eec2-4124-81ce-b605063cd006"
      },
      "source": [
        "prediction[0]"
      ],
      "execution_count": null,
      "outputs": [
        {
          "output_type": "execute_result",
          "data": {
            "application/vnd.google.colaboratory.intrinsic+json": {
              "type": "string"
            },
            "text/plain": [
              "\"andrew mogni , 20 , from glen ellyn , illinois , had only just arrived for a semester program in italy when the incident happened in january .\\nhe died on sunday at northwestern memorial hospital - medical examiner 's office spokesman frank shuftan says a cause of death wo n't be released until monday at the earliest .\\ninitial police reports indicated the fall was an accident but authorities are investigating the possibility that mogni was robbed .\""
            ]
          },
          "metadata": {
            "tags": []
          },
          "execution_count": 30
        }
      ]
    },
    {
      "cell_type": "code",
      "metadata": {
        "id": "qi55j4GngiDD"
      },
      "source": [
        "# for testing\n",
        "sb.glue(\"rouge_2_f_score\", rouge_scores['rouge-2']['f'])"
      ],
      "execution_count": null,
      "outputs": []
    },
    {
      "cell_type": "markdown",
      "metadata": {
        "id": "JDVdWWWNgiDD"
      },
      "source": [
        "## Prediction on a single input sample"
      ]
    },
    {
      "cell_type": "code",
      "metadata": {
        "id": "r5jXJslvgiDD"
      },
      "source": [
        "source = \"\"\"\n",
        "But under the new rule, set to be announced in the next 48 hours, Border Patrol agents would immediately return anyone to Mexico — without any detainment and without any due process — who attempts to cross the southwestern border between the legal ports of entry. The person would not be held for any length of time in an American facility.\n",
        "\n",
        "Although they advised that details could change before the announcement, administration officials said the measure was needed to avert what they fear could be a systemwide outbreak of the coronavirus inside detention facilities along the border. Such an outbreak could spread quickly through the immigrant population and could infect large numbers of Border Patrol agents, leaving the southwestern border defenses weakened, the officials argued.\n",
        "The Trump administration plans to immediately turn back all asylum seekers and other foreigners attempting to enter the United States from Mexico illegally, saying the nation cannot risk allowing the coronavirus to spread through detention facilities and Border Patrol agents, four administration officials said.\n",
        "The administration officials said the ports of entry would remain open to American citizens, green-card holders and foreigners with proper documentation. Some foreigners would be blocked, including Europeans currently subject to earlier travel restrictions imposed by the administration. The points of entry will also be open to commercial traffic.\"\"\""
      ],
      "execution_count": null,
      "outputs": []
    },
    {
      "cell_type": "code",
      "metadata": {
        "id": "xiUYj7yDgiDD"
      },
      "source": [
        "test_dataset = SummarizationDataset(\n",
        "    None,\n",
        "    source=[source],\n",
        "    source_preprocessing=[tokenize.sent_tokenize],\n",
        "    word_tokenize=nltk.word_tokenize,\n",
        ")\n",
        "processor = ExtSumProcessor(model_name=MODEL_NAME,  cache_dir=CACHE_DIR)\n",
        "preprocessed_dataset = processor.preprocess(test_dataset)"
      ],
      "execution_count": null,
      "outputs": []
    },
    {
      "cell_type": "code",
      "metadata": {
        "id": "4jYRKGP5giDD",
        "colab": {
          "base_uri": "https://localhost:8080/"
        },
        "outputId": "db694252-1a14-45e1-c0ae-3e81120d1118"
      },
      "source": [
        "preprocessed_dataset[0].keys()"
      ],
      "execution_count": null,
      "outputs": [
        {
          "output_type": "execute_result",
          "data": {
            "text/plain": [
              "dict_keys(['src', 'src_txt'])"
            ]
          },
          "metadata": {
            "tags": []
          },
          "execution_count": 25
        }
      ]
    },
    {
      "cell_type": "code",
      "metadata": {
        "id": "Ar4d2dnpgiDD"
      },
      "source": [
        "prediction = summarizer.predict(preprocessed_dataset, num_gpus=0, batch_size=1, sentence_separator=\"\\n\")"
      ],
      "execution_count": null,
      "outputs": []
    },
    {
      "cell_type": "code",
      "metadata": {
        "id": "lDvrtiiVgiDD"
      },
      "source": [
        "prediction"
      ],
      "execution_count": null,
      "outputs": []
    },
    {
      "cell_type": "markdown",
      "metadata": {
        "id": "djOIxBo_giDD"
      },
      "source": [
        "## Clean up temporary folders"
      ]
    },
    {
      "cell_type": "code",
      "metadata": {
        "id": "wTAXEaQQgiDD"
      },
      "source": [
        "if os.path.exists(DATA_PATH):\n",
        "    shutil.rmtree(DATA_PATH, ignore_errors=True)\n",
        "if os.path.exists(CACHE_DIR):\n",
        "    shutil.rmtree(CACHE_DIR, ignore_errors=True)\n",
        "if USE_PREPROCSSED_DATA:\n",
        "    if os.path.exists(PROCESSED_DATA_PATH):\n",
        "        shutil.rmtree(PROCESSED_DATA_PATH, ignore_errors=True)"
      ],
      "execution_count": null,
      "outputs": []
    },
    {
      "cell_type": "markdown",
      "metadata": {
        "id": "xIANua4EyW_T"
      },
      "source": [
        "##Importing BERT Extractive Output into a *File*"
      ]
    },
    {
      "cell_type": "code",
      "metadata": {
        "id": "FLtHoohWyfxv"
      },
      "source": [
        "import numpy as np\r\n",
        "import pandas as pd \r\n",
        "import re"
      ],
      "execution_count": null,
      "outputs": []
    },
    {
      "cell_type": "code",
      "metadata": {
        "id": "5QZO1lJXylO8"
      },
      "source": [
        "def text_cleaner(text):\r\n",
        "    newString = text.lower()\r\n",
        "    newString= re.sub(r'\\n',' ',newString)\r\n",
        "    return newString"
      ],
      "execution_count": null,
      "outputs": []
    },
    {
      "cell_type": "code",
      "metadata": {
        "colab": {
          "base_uri": "https://localhost:8080/"
        },
        "id": "DOiw1JPeyukd",
        "outputId": "a8f4814b-88e1-4e8c-8df5-31a531479c0e"
      },
      "source": [
        "stri=text_cleaner(prediction[0])\n",
        "print(stri)"
      ],
      "execution_count": null,
      "outputs": [
        {
          "output_type": "stream",
          "text": [
            "andrew mogni , 20 , from glen ellyn , illinois , had only just arrived for a semester program in italy when the incident happened in january . he died on sunday at northwestern memorial hospital - medical examiner 's office spokesman frank shuftan says a cause of death wo n't be released until monday at the earliest . initial police reports indicated the fall was an accident but authorities are investigating the possibility that mogni was robbed .\n"
          ],
          "name": "stdout"
        }
      ]
    },
    {
      "cell_type": "code",
      "metadata": {
        "id": "RLkAoP20y5-b"
      },
      "source": [
        "cleaned_text = []\n",
        "for t in range(len(prediction)):\n",
        "    cleaned_text.append(text_cleaner(prediction[t]))"
      ],
      "execution_count": null,
      "outputs": []
    },
    {
      "cell_type": "code",
      "metadata": {
        "id": "d0lv4Tqyy5-d"
      },
      "source": [
        "cleaned_summary = []\n",
        "for t in target:\n",
        "    cleaned_summary.append(text_cleaner(t))"
      ],
      "execution_count": null,
      "outputs": []
    },
    {
      "cell_type": "code",
      "metadata": {
        "id": "Ky9jEm5AzDMC"
      },
      "source": [
        "text =np.array(prediction)\n",
        "summary=np.array(target)\n",
        "df=pd.DataFrame({'text':text,'summary':summary})"
      ],
      "execution_count": null,
      "outputs": []
    },
    {
      "cell_type": "code",
      "metadata": {
        "colab": {
          "base_uri": "https://localhost:8080/"
        },
        "id": "jfkXDyKkzDMF",
        "outputId": "84f3fb9b-5656-4375-8c9a-602e87cf6db4"
      },
      "source": [
        "len(df)"
      ],
      "execution_count": null,
      "outputs": [
        {
          "output_type": "execute_result",
          "data": {
            "text/plain": [
              "11489"
            ]
          },
          "metadata": {
            "tags": []
          },
          "execution_count": 20
        }
      ]
    },
    {
      "cell_type": "code",
      "metadata": {
        "id": "kqKvmHFozDMV"
      },
      "source": [
        "for i in range(len(df)):\n",
        "  df['text'][i]=re.sub('\\n',' ',df['text'][i])"
      ],
      "execution_count": null,
      "outputs": []
    },
    {
      "cell_type": "code",
      "metadata": {
        "id": "knt4r0PYzDMV"
      },
      "source": [
        "for i in range(len(df)):\n",
        "  df['summary'][i]=re.sub('\\n',' ',df['summary'][i])"
      ],
      "execution_count": null,
      "outputs": []
    },
    {
      "cell_type": "code",
      "metadata": {
        "colab": {
          "base_uri": "https://localhost:8080/",
          "height": 1000
        },
        "id": "CWWB-uQPzVZg",
        "outputId": "381d0a9b-66fd-4bf6-a937-b2cec1342edb"
      },
      "source": [
        "df.head(50)\n"
      ],
      "execution_count": null,
      "outputs": [
        {
          "output_type": "execute_result",
          "data": {
            "text/html": [
              "<div>\n",
              "<style scoped>\n",
              "    .dataframe tbody tr th:only-of-type {\n",
              "        vertical-align: middle;\n",
              "    }\n",
              "\n",
              "    .dataframe tbody tr th {\n",
              "        vertical-align: top;\n",
              "    }\n",
              "\n",
              "    .dataframe thead th {\n",
              "        text-align: right;\n",
              "    }\n",
              "</style>\n",
              "<table border=\"1\" class=\"dataframe\">\n",
              "  <thead>\n",
              "    <tr style=\"text-align: right;\">\n",
              "      <th></th>\n",
              "      <th>text</th>\n",
              "      <th>summary</th>\n",
              "    </tr>\n",
              "  </thead>\n",
              "  <tbody>\n",
              "    <tr>\n",
              "      <th>0</th>\n",
              "      <td>andrew mogni , 20 , from glen ellyn , illinois , had only just arrived for a semester program in italy when the incident happened in january . he died on sunday at northwestern memorial hospital -...</td>\n",
              "      <td>andrew mogni , 20 , from glen ellyn , illinois , had only just arrived for a semester program when the incident happened in january he was flown back to chicago via air on march 20 but he died on ...</td>\n",
              "    </tr>\n",
              "    <tr>\n",
              "      <th>1</th>\n",
              "      <td>and for those looking to step back in time during a weekend getaway , there are plenty of options available at your fingertips . whether you prefer the earthy aesthetic of the atomic age or the bo...</td>\n",
              "      <td>the landgate cottage in rye is outfitted in an earthy atomic age aesthetic travel to brighton to experience the era of brit-pop at wonderland cottage and nothing says 1970s nostalgia like renting ...</td>\n",
              "    </tr>\n",
              "    <tr>\n",
              "      <th>2</th>\n",
              "      <td>the 27-year-old models her new summer sleepwear collection , which is full of mix and match pieces featuring sophisticated hues of slate blue and silver with colour pops of peach and floral prints...</td>\n",
              "      <td>rosie , 27 , shows off her new lingerie and sleepwear range shares her daily diet and says eating organic is an important investment stars in mad max - fury road film , which is out this year</td>\n",
              "    </tr>\n",
              "    <tr>\n",
              "      <th>3</th>\n",
              "      <td>manchester city are coming up against statistically the deadliest striker in the premier league when they face crystal palace on easter monday . harry kane and diego costa are locked on 19 goals i...</td>\n",
              "      <td>glenn murray has scored four goals in 364 minutes this season crystal palace striker has best minutes-per-goal ratio in premier league olivier giroud third on the list , harry kane fourth , diego ...</td>\n",
              "    </tr>\n",
              "    <tr>\n",
              "      <th>4</th>\n",
              "      <td>on a day when a new quinnipiac university poll found only 38 per cent of americans believe she is honest and trustworthy , the leading democratic party candidate for president has a mess to clean ...</td>\n",
              "      <td>hillary clinton seen as honest and trustworthy by just 38 per cent of americans , new poll shows new headaches include revelations about foreign funds flowing into the clintons ' family foundation...</td>\n",
              "    </tr>\n",
              "    <tr>\n",
              "      <th>5</th>\n",
              "      <td>however , you may be able to wave goodbye tp sleepless nights thanks to one father who has come up with a trick that can get your little one to sleep in less than one minute . at the beginning of ...</td>\n",
              "      <td>nathan dailo has found a way to get his son to sleep in 42 seconds in a youtube video he demonstrates how stroking his 3-month-old son 's face with a white piece of tissue paper sends him to sleep...</td>\n",
              "    </tr>\n",
              "    <tr>\n",
              "      <th>6</th>\n",
              "      <td>louis van gaal has found the best way to keep manchester united fans happy is to win at home . powering past aston villa was their 13th victory in 16 premier league matches at old trafford and the...</td>\n",
              "      <td>ander herrera put manchester united ahead just before half-time with a low left-footed effort wayne rooney doubled united 's lead with a beautiful half-volley on 79 minutes at old trafford christi...</td>\n",
              "    </tr>\n",
              "    <tr>\n",
              "      <th>7</th>\n",
              "      <td>a prisoner who shared a ride to jail with freddie gray claims the 25-year-old was trying to injure himself inside a police van before he died from unexplained spinal cord injuries , according to a...</td>\n",
              "      <td>the prisoner who rode in a police van with freddie gray on april 12 in baltimore says gray was trying to hurt himself prisoner 's statement to investigators was part of an affidavit obtained wedne...</td>\n",
              "    </tr>\n",
              "    <tr>\n",
              "      <th>8</th>\n",
              "      <td>on wednesday , mel posted a blog post on her website titled ` are we embarrassed of ivf ? ' where she detailed how she was undergoing the treatment , and that it was nothing for women to be ashame...</td>\n",
              "      <td>australian radio host stands up for women going through ivf treatment mel started her own ivf treatment and was showing solidarity with others she uploaded photographs of injecting herself for the...</td>\n",
              "    </tr>\n",
              "    <tr>\n",
              "      <th>9</th>\n",
              "      <td>\" i saw the top of the funnel cloud , and it was absolutely massive , \" she said . she watched the hulking gray twister grind past her town thursday , tearing up its fringes . \" we 're a community .</td>\n",
              "      <td>at least one person died as a result of storms in illinois , an official says fire department : rescuers searching for trapped victims in kirkland , illinois</td>\n",
              "    </tr>\n",
              "    <tr>\n",
              "      <th>10</th>\n",
              "      <td>de bruyne has become one of the hottest prospects in european football after starring in the bundesliga - being linked with manchester city and bayern munich . speaking to focus online , patrick d...</td>\n",
              "      <td>kevin de bruyne has been linked with a transfer away from wolfsburg his agent patrick de koster says that clubs are watching the belgian but denies a deal is in place with any team to buy the tale...</td>\n",
              "    </tr>\n",
              "    <tr>\n",
              "      <th>11</th>\n",
              "      <td>the dark days of ridicule for the barclays premier league 's most successful club have now gone . moyes lost 2-0 here just over a year ago and it transpired to be his last game in charge . mccarth...</td>\n",
              "      <td>james mccarthy puts everton ahead after 5 minutes as everton counter-attack at speed john stones doubles host side 's advantage with brilliant header from a corner in 35th minute kevin mirallas ta...</td>\n",
              "    </tr>\n",
              "    <tr>\n",
              "      <th>12</th>\n",
              "      <td>swansea have made a contract offer to marseille striker andre ayew . the 25-year-old ghana international is out of contract in the summer and free to talk to foreign clubs . ayew , son of former g...</td>\n",
              "      <td>andre ayew is free to talk to foreign clubs with his marseille contract expiring at the end of the season ghana international has received offers from swansea , newcastle and everton while wolfsbu...</td>\n",
              "    </tr>\n",
              "    <tr>\n",
              "      <th>13</th>\n",
              "      <td>a bruising florida swing last month saw the englishman fall outside the world 's top 10 . for a player who has been virtually a fixture in the top five for the last three years it was certainly a ...</td>\n",
              "      <td>justin rose bounced back from florida misery by carding 69 in houston three-time masters champion phil mickelson enjoyed return to form paul casey celebrated last-gasp masters invitation with fine...</td>\n",
              "    </tr>\n",
              "    <tr>\n",
              "      <th>14</th>\n",
              "      <td>but this stomach-churning clip of a longboarder crashing downhill at high speed certainly serves as a warning to wear a helmet . for a short moment he scrapes along the ground on his stomach . foo...</td>\n",
              "      <td>footage shows the skater confidently sailing down a concrete slope in santa monica , los angeles , before he loses balance and falls headfirst as his friends go to investigate , blood is seen pour...</td>\n",
              "    </tr>\n",
              "    <tr>\n",
              "      <th>15</th>\n",
              "      <td>the disgraced espn sports reporter has been suspended for a week after footage emerged of her telling single mother-of-three gina michelle : ` i 'm on tv and you 're in a f -- ing trailer , honey ...</td>\n",
              "      <td>arkansas attorney sarah sparkman observed women are sexualized on tv someone replied and mentioned britt mchenry , but did n't tag the reporter however , mchenry found the post and began lashing o...</td>\n",
              "    </tr>\n",
              "    <tr>\n",
              "      <th>16</th>\n",
              "      <td>goals from cristiano ronaldo ( five , yes , five ) , karim benzema ( two ) , gareth bale and a diego mainz own goal secure a huge win . if you enjoyed it , why not follow our minute-by-minute upda...</td>\n",
              "      <td>real madrid take on granada in la liga early sunday kick-off carlo ancelotti 's side four points off barcelona in the title race real were beaten 2-1 in el clasico last time out before internation...</td>\n",
              "    </tr>\n",
              "    <tr>\n",
              "      <th>17</th>\n",
              "      <td>madison avery crotty , from san diego , is seen screaming and crying until her doting dad decides to try out his terrifying impersonation . in a new video posted online , the wriggling one-month-o...</td>\n",
              "      <td>madison crotty , from san diego in california , is seen screaming and crying video posted online by her father buddy shows how he gets her to sleep he copies the scuba tank breathing made famous b...</td>\n",
              "    </tr>\n",
              "    <tr>\n",
              "      <th>18</th>\n",
              "      <td>cameron thomas philp was passing a crime scene at highgate hill in brisbane on may 3 , 2013 when he graffitied and spat on the side of the vehicle . mr philp fronted brisbane magistrates court on ...</td>\n",
              "      <td>cameron thomas philp vandalised and spat on the vehicle in 2013 the forensic officer swabbed the spit and found philp from his dna he pleaded guilty to wilful damage of police property and was fin...</td>\n",
              "    </tr>\n",
              "    <tr>\n",
              "      <th>19</th>\n",
              "      <td>his dumbarton side have faced both of his former teams in the league this term and will do so once again in the final weeks of the campaign . but while stuart mccall 's men have the momentum at pr...</td>\n",
              "      <td>dumbarton boss ian murray believes rangers ' tough run-in could mean they miss out on second place in the scottish championship to hibernian rangers face difficult fixtures against hearts and quee...</td>\n",
              "    </tr>\n",
              "    <tr>\n",
              "      <th>20</th>\n",
              "      <td>the wolves boss believes it is now just the top eight in the sky bet championship who are fighting it out for the play-off places , with their 2-1 success at the city ground all but ending the red...</td>\n",
              "      <td>wolves beat nottingham forest to continue their push towards the playoff places and all but end their opposition 's chances of promotion wolves are seventh , level on points with sixth-placed ipsw...</td>\n",
              "    </tr>\n",
              "    <tr>\n",
              "      <th>21</th>\n",
              "      <td>from bloody ` vampire facials ' to placenta serums and of course plastic surgery - the fountain of youth runs deep . but an app is now trying to cut through all the cosmetics to determine exactly ...</td>\n",
              "      <td>site can analyze any photo and will guess the age and sex said 30-year-old khloe kardashian looks 44 microsoft app also determined obama looks the right age of 53 users can search for photos on bi...</td>\n",
              "    </tr>\n",
              "    <tr>\n",
              "      <th>22</th>\n",
              "      <td>the parents of a vermont woman who died last year have sued botox maker allergan , saying off-label treatment of her spams caused by cerebral palsy with botox contributed to her death . mike and s...</td>\n",
              "      <td>susan and mike fortuna of shelburne , vermont say their daughter mandy suffered an unexplained health deterioration soon after treatment the parents learned their daughter had been treated by the ...</td>\n",
              "    </tr>\n",
              "    <tr>\n",
              "      <th>23</th>\n",
              "      <td>a glamorous romanian politician who finished fourth in the country 's presidential election has been charged with accepting bribes and abusing her power while a government minister by anti-corrupt...</td>\n",
              "      <td>elena udrea , 41 , is accused of abusing her position in government udrea was a member of the romanian government for four years until 2012 prosecutors claim she accepted bribes worth an estimated...</td>\n",
              "    </tr>\n",
              "    <tr>\n",
              "      <th>24</th>\n",
              "      <td>` are you doing the gr20 ? ' the gr20 trail runs down the mountainous spine of corsica and happens to be the toughest trek in europe i was following the ancient sentiers de transhumance , footpath...</td>\n",
              "      <td>sentiers de transhumance track 's been used by shepherd for centuries sign-posted route is an easier equivalent to the famed gr20 hiking trail accommodation ranged from small auberges to family-ru...</td>\n",
              "    </tr>\n",
              "    <tr>\n",
              "      <th>25</th>\n",
              "      <td>despite widespread speculation about a pending deal with former mainz coach thomas tuchel , hamburg said they had agreed on a 15-month contract with labbadia , who had coached them in 2009-10 . th...</td>\n",
              "      <td>hamburg sacked joe zinnbauer in march with peter knaebel taking over knaebel has now returned to his original post as sports director club has been in talks with thomas tuchel but could not reach ...</td>\n",
              "    </tr>\n",
              "    <tr>\n",
              "      <th>26</th>\n",
              "      <td>despite being morbidly obese , bettie jo , from houston , texas , lived off a diet of fried chicken and barbecue sauce , and was unable to care for herself , meaning josh had to do everything for ...</td>\n",
              "      <td>bettie jo , 24 , from houston , was morbidly obese at almost 47st ( 660lbs ) husband josh tended to her basic needs including showering and eating last year she was given bariatric surgery husband...</td>\n",
              "    </tr>\n",
              "    <tr>\n",
              "      <th>27</th>\n",
              "      <td>having won last year 's race on pineau de re , 38-year-old leighton aspell , who once walked away from the sport for 18 months after becoming disillusioned , became the first rider since bryan mar...</td>\n",
              "      <td>cloud nine ridden by leighton aspell won the grand national at aintree ap mccoy finished fifth on shutthefrontdoor in his final ever national aspell has won two years running after 2014 success on...</td>\n",
              "    </tr>\n",
              "    <tr>\n",
              "      <th>28</th>\n",
              "      <td>the son of the late attorney general robert kennedy is a vaccine critic and is currently trying to stop a bill in the state that would make childhood immunizations mandatory robert f kennedy jr sp...</td>\n",
              "      <td>the nephew of president john f kennedy attended the screening of a anti-vaccination documentary tuesday in sacramento , california the california state legislature is currently deciding a bill tha...</td>\n",
              "    </tr>\n",
              "    <tr>\n",
              "      <th>29</th>\n",
              "      <td>toxicology results show that an off-duty new jersey officer was drunk when he caused a wrong-way crash that killed another officer and a friend on a new york city highway , a staten island prosecu...</td>\n",
              "      <td>pedro abad was driving with two fellow linden , new jersey police officers and a friend on march 20 when he crashed head-on with a tractor-trailer toxicology tests revealed monday show abad had a ...</td>\n",
              "    </tr>\n",
              "    <tr>\n",
              "      <th>30</th>\n",
              "      <td>mourinho planned for kurt zouma to man mark fellaini - with teenager ruben loftus-cheek playing the 6ft 4in midfielder in training . mansour ( left ) and marouane ( right ) look on from the stands...</td>\n",
              "      <td>chelsea boss jose mourinho had prepared specific tactics for dealing with the threat of manchester united midfielder marouane fellaini however , ahead of the game at stamford bridge , mourinho was...</td>\n",
              "    </tr>\n",
              "    <tr>\n",
              "      <th>31</th>\n",
              "      <td>netanyahu has been perhaps the most vocal critic of nuclear talks with iran , insisting again and again it ca n't be trusted . he took his case to the u.s. congress last month , at a time before n...</td>\n",
              "      <td>israeli prime minister benjamin netanyahu slams nuclear framework deal with iran he says it would legitimize iran 's nuclear program and bolster its economy</td>\n",
              "    </tr>\n",
              "    <tr>\n",
              "      <th>32</th>\n",
              "      <td>it was also claimed the body of one migrant , who died on another boat making the perilous trip from north africa to italy , was tossed overboard by a trafficker to circling sharks . the stories e...</td>\n",
              "      <td>around 400 migrants trying to reach europe died when their boat capsized body of one migrant on another vessel was thrown overboard to sharks stories emerged after more than 8,000 crossed mediterr...</td>\n",
              "    </tr>\n",
              "    <tr>\n",
              "      <th>33</th>\n",
              "      <td>the actress and her fiance ashton kutcher responded to the impending lawsuit with a tongue-in-cheek video , claiming they were going to file a lawsuit against the accuser kristina karo , because o...</td>\n",
              "      <td>mila kunis and ashton kutcher respond to impending lawsuit in video kutcher claims kristina karo was one month old when the alleged incident occurred kunis says she will counter-sue because of inj...</td>\n",
              "    </tr>\n",
              "    <tr>\n",
              "      <th>34</th>\n",
              "      <td>tottenham will resist any offers for left back danny rose . rose is strong going forward but shows off the defensive side of his game against george boyd of burnley i also look at his performances...</td>\n",
              "      <td>manchester city have identified danny rose as a transfer target rose is a rising star and city 's squad is short of homegrown players but spus boss mauricio pochettino is a big fan of his left bac...</td>\n",
              "    </tr>\n",
              "    <tr>\n",
              "      <th>35</th>\n",
              "      <td>the scathing critics told the six-months pregnant meteorologist kristi gordon that her ` front end looks like the hindenburg and your rear end looks like a brick s *** house . ' fans jumped to sup...</td>\n",
              "      <td>nicky buckley has released a tell-all memoir of her life the book shares a candid insight into her career-defining moments a whole chapter is dedicated to when she revealed her baby bump on tv buc...</td>\n",
              "    </tr>\n",
              "    <tr>\n",
              "      <th>36</th>\n",
              "      <td>by the time he was 20 in december 1999 , his list of accomplishments read like the wish-list of many footballers . there were also 18 england caps and he had passed 50 career goals for liverpool ....</td>\n",
              "      <td>raheem sterling has rejected a new contract worth # 100,000-a-week liverpool boss brendan rodgers says sterling wo n't be sold this summer his achievements at 20 are not on the same level as some ...</td>\n",
              "    </tr>\n",
              "    <tr>\n",
              "      <th>37</th>\n",
              "      <td>mission controllers at the johns hopkins university applied physics laboratory ( apl ) in laurel , maryland , confirmed the probe slammed into the surface of mercury , as anticipated , at 3:26 p.m...</td>\n",
              "      <td>nasa 's messenger probe smashes into mercury , ending mission space probe hit the planet 's surface at 8,750 mph</td>\n",
              "    </tr>\n",
              "    <tr>\n",
              "      <th>38</th>\n",
              "      <td>the move comes in response to an online petition posted on the white house website following the death of 17-year-old leelah alcorn . the petition currently has over 120,000 signatures . the trans...</td>\n",
              "      <td>president barack obama is calling for an end to psychiatric therapy treatments aimed at turning gays into heterosexuals the move comes in response to an online petition posted on the white house w...</td>\n",
              "    </tr>\n",
              "    <tr>\n",
              "      <th>39</th>\n",
              "      <td>the clip shows a large croc calmly moving through the marina in the tourist hotspot of puerto vallarta , in mexico , with a black dog wearing a red collar lifeless in its mouth . ` there 's a sanc...</td>\n",
              "      <td>a local bike shop owner 's dog was snatched by a crocodile the crocodile was swimming through puerto vallarta marina , in mexico new zealander tim weston was on holiday and saw the bizarre sight a...</td>\n",
              "    </tr>\n",
              "    <tr>\n",
              "      <th>40</th>\n",
              "      <td>emanuel , a former white house chief of staff notorious for his brusque management style , was forced to campaign furiously across the city to beat cook county commissioner garcia after failing to...</td>\n",
              "      <td>with nearly all voting precincts reporting results , emanuel had 55.5 per cent of the vote compared to 44.5 per cent for his opponent mayoral candidate cook county commissioner jesus ` chuy ' garc...</td>\n",
              "    </tr>\n",
              "    <tr>\n",
              "      <th>41</th>\n",
              "      <td>it was a businesslike display from the world no 5 . he did n't unleash the full power of his forehand but played sensible , measured tennis and made only five unforced errors in the match . rafael...</td>\n",
              "      <td>rafa nadal beat lucas pouille 6-2 , 6-1 in the second round on wednesday spaniard got his clay court season off to a perfect start with a routine win world no 5 made just five unforced errors as h...</td>\n",
              "    </tr>\n",
              "    <tr>\n",
              "      <th>42</th>\n",
              "      <td>the air is so clear it feels like there might be a fourth dimension . the view from the sea plane is like a turquoise lava lamp as lagoons meet the ocean with swirls and circles of staggering beau...</td>\n",
              "      <td>mail on sunday writer visits the resort of niyama , in the dhaalu atoll spends her days relaxing in the lime spa and snorkelling food at the resort is cooked by aussie chef geoff clark</td>\n",
              "    </tr>\n",
              "    <tr>\n",
              "      <th>43</th>\n",
              "      <td>a secret meeting between intelligence figures in moscow and washington reportedly revealed putin will consider any attempt to return the crimean peninsula to ukraine as declaration of war and will...</td>\n",
              "      <td>russian intelligence chiefs took part in secret meeting with u.s. officials outlined three potential flashpoints that could lead to all-out nuclear war said attempts to return crimea to ukraine wi...</td>\n",
              "    </tr>\n",
              "    <tr>\n",
              "      <th>44</th>\n",
              "      <td>lian doyle agreed to hide the trainers worn by justin robertson when he murdered pennie davis because he had been paid # 1,500 by the son of the victim 's ex-lover . she was today sentenced to 10 ...</td>\n",
              "      <td>lian doyle , 24 , hid a pair of trainers belonging to justin robertson she thought he wore them to carry out a burglary but confessed to police when she realised he had murdered pennie davis rober...</td>\n",
              "    </tr>\n",
              "    <tr>\n",
              "      <th>45</th>\n",
              "      <td>fighters from 100 nations -- more than half the countries in the world -- have joined militant groups such as al qaeda and islamic state , according to research by the united nations . worryingly ...</td>\n",
              "      <td>number of foreign fighters worldwide soared by 71 % from mid-2014 to now syria and iraq were most popular regions - mainly for is and al-nusra front united nations report said fighters came from o...</td>\n",
              "    </tr>\n",
              "    <tr>\n",
              "      <th>46</th>\n",
              "      <td>the unnamed woman was discovered around 8.20 am sunday hanging from the third-floor fire escape of her apartment building on utica ave. near prospect place in crown heights , the new york post rep...</td>\n",
              "      <td>the body of a new york woman was left dangling from a fire escape for more than an hour sunday after she hung herself the unnamed woman was discovered around 8.20 am sunday hanging from the third-...</td>\n",
              "    </tr>\n",
              "    <tr>\n",
              "      <th>47</th>\n",
              "      <td>they are struggling to fill core teaching positions , with some posts attracting only one or two applicants . school leaders warn the ` bleak ' situation is likely to worsen due to the rise in pup...</td>\n",
              "      <td>school leaders warn the ` bleak ' situation is likely to get even worse say it is due to rise in pupil numbers and greater competition for graduates london schools have most problems , followed by...</td>\n",
              "    </tr>\n",
              "    <tr>\n",
              "      <th>48</th>\n",
              "      <td>it is hoped the new approach will target cancer stem cells that evade conventional drugs and cause the tumour to re-grow . researchers from manchester university working with drug development comp...</td>\n",
              "      <td>new approach targets cancer stem cells that evade conventional treatment the cells cause tumours to re-grow , causing secondary breast cancer treatment combines sulforadex with standard hormonal t...</td>\n",
              "    </tr>\n",
              "    <tr>\n",
              "      <th>49</th>\n",
              "      <td>the network handed williams a six-month suspension in february after he acknowledged he had lied about being on board a helicopter that came under fire while reporting from iraq in 2003 . but acco...</td>\n",
              "      <td>williams was suspended from nbc in february after it emerged he 'd lied about being in a helicopter that was shot down in iraq in 2003 a new report in vanity fair claims williams lied because he f...</td>\n",
              "    </tr>\n",
              "  </tbody>\n",
              "</table>\n",
              "</div>"
            ],
            "text/plain": [
              "                                                                                                                                                                                                       text                                                                                                                                                                                                  summary\n",
              "0   andrew mogni , 20 , from glen ellyn , illinois , had only just arrived for a semester program in italy when the incident happened in january . he died on sunday at northwestern memorial hospital -...  andrew mogni , 20 , from glen ellyn , illinois , had only just arrived for a semester program when the incident happened in january he was flown back to chicago via air on march 20 but he died on ...\n",
              "1   and for those looking to step back in time during a weekend getaway , there are plenty of options available at your fingertips . whether you prefer the earthy aesthetic of the atomic age or the bo...  the landgate cottage in rye is outfitted in an earthy atomic age aesthetic travel to brighton to experience the era of brit-pop at wonderland cottage and nothing says 1970s nostalgia like renting ...\n",
              "2   the 27-year-old models her new summer sleepwear collection , which is full of mix and match pieces featuring sophisticated hues of slate blue and silver with colour pops of peach and floral prints...          rosie , 27 , shows off her new lingerie and sleepwear range shares her daily diet and says eating organic is an important investment stars in mad max - fury road film , which is out this year\n",
              "3   manchester city are coming up against statistically the deadliest striker in the premier league when they face crystal palace on easter monday . harry kane and diego costa are locked on 19 goals i...  glenn murray has scored four goals in 364 minutes this season crystal palace striker has best minutes-per-goal ratio in premier league olivier giroud third on the list , harry kane fourth , diego ...\n",
              "4   on a day when a new quinnipiac university poll found only 38 per cent of americans believe she is honest and trustworthy , the leading democratic party candidate for president has a mess to clean ...  hillary clinton seen as honest and trustworthy by just 38 per cent of americans , new poll shows new headaches include revelations about foreign funds flowing into the clintons ' family foundation...\n",
              "5   however , you may be able to wave goodbye tp sleepless nights thanks to one father who has come up with a trick that can get your little one to sleep in less than one minute . at the beginning of ...  nathan dailo has found a way to get his son to sleep in 42 seconds in a youtube video he demonstrates how stroking his 3-month-old son 's face with a white piece of tissue paper sends him to sleep...\n",
              "6   louis van gaal has found the best way to keep manchester united fans happy is to win at home . powering past aston villa was their 13th victory in 16 premier league matches at old trafford and the...  ander herrera put manchester united ahead just before half-time with a low left-footed effort wayne rooney doubled united 's lead with a beautiful half-volley on 79 minutes at old trafford christi...\n",
              "7   a prisoner who shared a ride to jail with freddie gray claims the 25-year-old was trying to injure himself inside a police van before he died from unexplained spinal cord injuries , according to a...  the prisoner who rode in a police van with freddie gray on april 12 in baltimore says gray was trying to hurt himself prisoner 's statement to investigators was part of an affidavit obtained wedne...\n",
              "8   on wednesday , mel posted a blog post on her website titled ` are we embarrassed of ivf ? ' where she detailed how she was undergoing the treatment , and that it was nothing for women to be ashame...  australian radio host stands up for women going through ivf treatment mel started her own ivf treatment and was showing solidarity with others she uploaded photographs of injecting herself for the...\n",
              "9    \" i saw the top of the funnel cloud , and it was absolutely massive , \" she said . she watched the hulking gray twister grind past her town thursday , tearing up its fringes . \" we 're a community .                                            at least one person died as a result of storms in illinois , an official says fire department : rescuers searching for trapped victims in kirkland , illinois\n",
              "10  de bruyne has become one of the hottest prospects in european football after starring in the bundesliga - being linked with manchester city and bayern munich . speaking to focus online , patrick d...  kevin de bruyne has been linked with a transfer away from wolfsburg his agent patrick de koster says that clubs are watching the belgian but denies a deal is in place with any team to buy the tale...\n",
              "11  the dark days of ridicule for the barclays premier league 's most successful club have now gone . moyes lost 2-0 here just over a year ago and it transpired to be his last game in charge . mccarth...  james mccarthy puts everton ahead after 5 minutes as everton counter-attack at speed john stones doubles host side 's advantage with brilliant header from a corner in 35th minute kevin mirallas ta...\n",
              "12  swansea have made a contract offer to marseille striker andre ayew . the 25-year-old ghana international is out of contract in the summer and free to talk to foreign clubs . ayew , son of former g...  andre ayew is free to talk to foreign clubs with his marseille contract expiring at the end of the season ghana international has received offers from swansea , newcastle and everton while wolfsbu...\n",
              "13  a bruising florida swing last month saw the englishman fall outside the world 's top 10 . for a player who has been virtually a fixture in the top five for the last three years it was certainly a ...  justin rose bounced back from florida misery by carding 69 in houston three-time masters champion phil mickelson enjoyed return to form paul casey celebrated last-gasp masters invitation with fine...\n",
              "14  but this stomach-churning clip of a longboarder crashing downhill at high speed certainly serves as a warning to wear a helmet . for a short moment he scrapes along the ground on his stomach . foo...  footage shows the skater confidently sailing down a concrete slope in santa monica , los angeles , before he loses balance and falls headfirst as his friends go to investigate , blood is seen pour...\n",
              "15  the disgraced espn sports reporter has been suspended for a week after footage emerged of her telling single mother-of-three gina michelle : ` i 'm on tv and you 're in a f -- ing trailer , honey ...  arkansas attorney sarah sparkman observed women are sexualized on tv someone replied and mentioned britt mchenry , but did n't tag the reporter however , mchenry found the post and began lashing o...\n",
              "16  goals from cristiano ronaldo ( five , yes , five ) , karim benzema ( two ) , gareth bale and a diego mainz own goal secure a huge win . if you enjoyed it , why not follow our minute-by-minute upda...  real madrid take on granada in la liga early sunday kick-off carlo ancelotti 's side four points off barcelona in the title race real were beaten 2-1 in el clasico last time out before internation...\n",
              "17  madison avery crotty , from san diego , is seen screaming and crying until her doting dad decides to try out his terrifying impersonation . in a new video posted online , the wriggling one-month-o...  madison crotty , from san diego in california , is seen screaming and crying video posted online by her father buddy shows how he gets her to sleep he copies the scuba tank breathing made famous b...\n",
              "18  cameron thomas philp was passing a crime scene at highgate hill in brisbane on may 3 , 2013 when he graffitied and spat on the side of the vehicle . mr philp fronted brisbane magistrates court on ...  cameron thomas philp vandalised and spat on the vehicle in 2013 the forensic officer swabbed the spit and found philp from his dna he pleaded guilty to wilful damage of police property and was fin...\n",
              "19  his dumbarton side have faced both of his former teams in the league this term and will do so once again in the final weeks of the campaign . but while stuart mccall 's men have the momentum at pr...  dumbarton boss ian murray believes rangers ' tough run-in could mean they miss out on second place in the scottish championship to hibernian rangers face difficult fixtures against hearts and quee...\n",
              "20  the wolves boss believes it is now just the top eight in the sky bet championship who are fighting it out for the play-off places , with their 2-1 success at the city ground all but ending the red...  wolves beat nottingham forest to continue their push towards the playoff places and all but end their opposition 's chances of promotion wolves are seventh , level on points with sixth-placed ipsw...\n",
              "21  from bloody ` vampire facials ' to placenta serums and of course plastic surgery - the fountain of youth runs deep . but an app is now trying to cut through all the cosmetics to determine exactly ...  site can analyze any photo and will guess the age and sex said 30-year-old khloe kardashian looks 44 microsoft app also determined obama looks the right age of 53 users can search for photos on bi...\n",
              "22  the parents of a vermont woman who died last year have sued botox maker allergan , saying off-label treatment of her spams caused by cerebral palsy with botox contributed to her death . mike and s...  susan and mike fortuna of shelburne , vermont say their daughter mandy suffered an unexplained health deterioration soon after treatment the parents learned their daughter had been treated by the ...\n",
              "23  a glamorous romanian politician who finished fourth in the country 's presidential election has been charged with accepting bribes and abusing her power while a government minister by anti-corrupt...  elena udrea , 41 , is accused of abusing her position in government udrea was a member of the romanian government for four years until 2012 prosecutors claim she accepted bribes worth an estimated...\n",
              "24  ` are you doing the gr20 ? ' the gr20 trail runs down the mountainous spine of corsica and happens to be the toughest trek in europe i was following the ancient sentiers de transhumance , footpath...  sentiers de transhumance track 's been used by shepherd for centuries sign-posted route is an easier equivalent to the famed gr20 hiking trail accommodation ranged from small auberges to family-ru...\n",
              "25  despite widespread speculation about a pending deal with former mainz coach thomas tuchel , hamburg said they had agreed on a 15-month contract with labbadia , who had coached them in 2009-10 . th...  hamburg sacked joe zinnbauer in march with peter knaebel taking over knaebel has now returned to his original post as sports director club has been in talks with thomas tuchel but could not reach ...\n",
              "26  despite being morbidly obese , bettie jo , from houston , texas , lived off a diet of fried chicken and barbecue sauce , and was unable to care for herself , meaning josh had to do everything for ...  bettie jo , 24 , from houston , was morbidly obese at almost 47st ( 660lbs ) husband josh tended to her basic needs including showering and eating last year she was given bariatric surgery husband...\n",
              "27  having won last year 's race on pineau de re , 38-year-old leighton aspell , who once walked away from the sport for 18 months after becoming disillusioned , became the first rider since bryan mar...  cloud nine ridden by leighton aspell won the grand national at aintree ap mccoy finished fifth on shutthefrontdoor in his final ever national aspell has won two years running after 2014 success on...\n",
              "28  the son of the late attorney general robert kennedy is a vaccine critic and is currently trying to stop a bill in the state that would make childhood immunizations mandatory robert f kennedy jr sp...  the nephew of president john f kennedy attended the screening of a anti-vaccination documentary tuesday in sacramento , california the california state legislature is currently deciding a bill tha...\n",
              "29  toxicology results show that an off-duty new jersey officer was drunk when he caused a wrong-way crash that killed another officer and a friend on a new york city highway , a staten island prosecu...  pedro abad was driving with two fellow linden , new jersey police officers and a friend on march 20 when he crashed head-on with a tractor-trailer toxicology tests revealed monday show abad had a ...\n",
              "30  mourinho planned for kurt zouma to man mark fellaini - with teenager ruben loftus-cheek playing the 6ft 4in midfielder in training . mansour ( left ) and marouane ( right ) look on from the stands...  chelsea boss jose mourinho had prepared specific tactics for dealing with the threat of manchester united midfielder marouane fellaini however , ahead of the game at stamford bridge , mourinho was...\n",
              "31  netanyahu has been perhaps the most vocal critic of nuclear talks with iran , insisting again and again it ca n't be trusted . he took his case to the u.s. congress last month , at a time before n...                                             israeli prime minister benjamin netanyahu slams nuclear framework deal with iran he says it would legitimize iran 's nuclear program and bolster its economy\n",
              "32  it was also claimed the body of one migrant , who died on another boat making the perilous trip from north africa to italy , was tossed overboard by a trafficker to circling sharks . the stories e...  around 400 migrants trying to reach europe died when their boat capsized body of one migrant on another vessel was thrown overboard to sharks stories emerged after more than 8,000 crossed mediterr...\n",
              "33  the actress and her fiance ashton kutcher responded to the impending lawsuit with a tongue-in-cheek video , claiming they were going to file a lawsuit against the accuser kristina karo , because o...  mila kunis and ashton kutcher respond to impending lawsuit in video kutcher claims kristina karo was one month old when the alleged incident occurred kunis says she will counter-sue because of inj...\n",
              "34  tottenham will resist any offers for left back danny rose . rose is strong going forward but shows off the defensive side of his game against george boyd of burnley i also look at his performances...  manchester city have identified danny rose as a transfer target rose is a rising star and city 's squad is short of homegrown players but spus boss mauricio pochettino is a big fan of his left bac...\n",
              "35  the scathing critics told the six-months pregnant meteorologist kristi gordon that her ` front end looks like the hindenburg and your rear end looks like a brick s *** house . ' fans jumped to sup...  nicky buckley has released a tell-all memoir of her life the book shares a candid insight into her career-defining moments a whole chapter is dedicated to when she revealed her baby bump on tv buc...\n",
              "36  by the time he was 20 in december 1999 , his list of accomplishments read like the wish-list of many footballers . there were also 18 england caps and he had passed 50 career goals for liverpool ....  raheem sterling has rejected a new contract worth # 100,000-a-week liverpool boss brendan rodgers says sterling wo n't be sold this summer his achievements at 20 are not on the same level as some ...\n",
              "37  mission controllers at the johns hopkins university applied physics laboratory ( apl ) in laurel , maryland , confirmed the probe slammed into the surface of mercury , as anticipated , at 3:26 p.m...                                                                                         nasa 's messenger probe smashes into mercury , ending mission space probe hit the planet 's surface at 8,750 mph\n",
              "38  the move comes in response to an online petition posted on the white house website following the death of 17-year-old leelah alcorn . the petition currently has over 120,000 signatures . the trans...  president barack obama is calling for an end to psychiatric therapy treatments aimed at turning gays into heterosexuals the move comes in response to an online petition posted on the white house w...\n",
              "39  the clip shows a large croc calmly moving through the marina in the tourist hotspot of puerto vallarta , in mexico , with a black dog wearing a red collar lifeless in its mouth . ` there 's a sanc...  a local bike shop owner 's dog was snatched by a crocodile the crocodile was swimming through puerto vallarta marina , in mexico new zealander tim weston was on holiday and saw the bizarre sight a...\n",
              "40  emanuel , a former white house chief of staff notorious for his brusque management style , was forced to campaign furiously across the city to beat cook county commissioner garcia after failing to...  with nearly all voting precincts reporting results , emanuel had 55.5 per cent of the vote compared to 44.5 per cent for his opponent mayoral candidate cook county commissioner jesus ` chuy ' garc...\n",
              "41  it was a businesslike display from the world no 5 . he did n't unleash the full power of his forehand but played sensible , measured tennis and made only five unforced errors in the match . rafael...  rafa nadal beat lucas pouille 6-2 , 6-1 in the second round on wednesday spaniard got his clay court season off to a perfect start with a routine win world no 5 made just five unforced errors as h...\n",
              "42  the air is so clear it feels like there might be a fourth dimension . the view from the sea plane is like a turquoise lava lamp as lagoons meet the ocean with swirls and circles of staggering beau...                 mail on sunday writer visits the resort of niyama , in the dhaalu atoll spends her days relaxing in the lime spa and snorkelling food at the resort is cooked by aussie chef geoff clark\n",
              "43  a secret meeting between intelligence figures in moscow and washington reportedly revealed putin will consider any attempt to return the crimean peninsula to ukraine as declaration of war and will...  russian intelligence chiefs took part in secret meeting with u.s. officials outlined three potential flashpoints that could lead to all-out nuclear war said attempts to return crimea to ukraine wi...\n",
              "44  lian doyle agreed to hide the trainers worn by justin robertson when he murdered pennie davis because he had been paid # 1,500 by the son of the victim 's ex-lover . she was today sentenced to 10 ...  lian doyle , 24 , hid a pair of trainers belonging to justin robertson she thought he wore them to carry out a burglary but confessed to police when she realised he had murdered pennie davis rober...\n",
              "45  fighters from 100 nations -- more than half the countries in the world -- have joined militant groups such as al qaeda and islamic state , according to research by the united nations . worryingly ...  number of foreign fighters worldwide soared by 71 % from mid-2014 to now syria and iraq were most popular regions - mainly for is and al-nusra front united nations report said fighters came from o...\n",
              "46  the unnamed woman was discovered around 8.20 am sunday hanging from the third-floor fire escape of her apartment building on utica ave. near prospect place in crown heights , the new york post rep...  the body of a new york woman was left dangling from a fire escape for more than an hour sunday after she hung herself the unnamed woman was discovered around 8.20 am sunday hanging from the third-...\n",
              "47  they are struggling to fill core teaching positions , with some posts attracting only one or two applicants . school leaders warn the ` bleak ' situation is likely to worsen due to the rise in pup...  school leaders warn the ` bleak ' situation is likely to get even worse say it is due to rise in pupil numbers and greater competition for graduates london schools have most problems , followed by...\n",
              "48  it is hoped the new approach will target cancer stem cells that evade conventional drugs and cause the tumour to re-grow . researchers from manchester university working with drug development comp...  new approach targets cancer stem cells that evade conventional treatment the cells cause tumours to re-grow , causing secondary breast cancer treatment combines sulforadex with standard hormonal t...\n",
              "49  the network handed williams a six-month suspension in february after he acknowledged he had lied about being on board a helicopter that came under fire while reporting from iraq in 2003 . but acco...  williams was suspended from nbc in february after it emerged he 'd lied about being in a helicopter that was shot down in iraq in 2003 a new report in vanity fair claims williams lied because he f..."
            ]
          },
          "metadata": {
            "tags": []
          },
          "execution_count": 39
        }
      ]
    },
    {
      "cell_type": "code",
      "metadata": {
        "id": "GKdQMdFPzU8G"
      },
      "source": [
        "from google.colab import files\r\n",
        "\r\n",
        "df.to_csv('bert_sum.csv')\r\n",
        "files.download('bert_sum.csv')"
      ],
      "execution_count": null,
      "outputs": []
    },
    {
      "cell_type": "code",
      "metadata": {
        "id": "Hy904yeN_UwQ"
      },
      "source": [
        "sources=[]\r\n",
        "for s in range(len(source)):\r\n",
        "  new=' '.join(source[s])\r\n",
        "  sources.append(new)"
      ],
      "execution_count": null,
      "outputs": []
    },
    {
      "cell_type": "code",
      "metadata": {
        "colab": {
          "base_uri": "https://localhost:8080/",
          "height": 17
        },
        "id": "K8B5bEQLTOOW",
        "outputId": "6eb0357a-dc91-4af1-caf8-0501148ad969"
      },
      "source": [
        "df=pd.DataFrame({'source':sources})\r\n",
        "from google.colab import files\r\n",
        "\r\n",
        "df.to_csv('source.csv')\r\n",
        "files.download('source.csv')"
      ],
      "execution_count": null,
      "outputs": [
        {
          "output_type": "display_data",
          "data": {
            "application/javascript": [
              "\n",
              "    async function download(id, filename, size) {\n",
              "      if (!google.colab.kernel.accessAllowed) {\n",
              "        return;\n",
              "      }\n",
              "      const div = document.createElement('div');\n",
              "      const label = document.createElement('label');\n",
              "      label.textContent = `Downloading \"${filename}\": `;\n",
              "      div.appendChild(label);\n",
              "      const progress = document.createElement('progress');\n",
              "      progress.max = size;\n",
              "      div.appendChild(progress);\n",
              "      document.body.appendChild(div);\n",
              "\n",
              "      const buffers = [];\n",
              "      let downloaded = 0;\n",
              "\n",
              "      const channel = await google.colab.kernel.comms.open(id);\n",
              "      // Send a message to notify the kernel that we're ready.\n",
              "      channel.send({})\n",
              "\n",
              "      for await (const message of channel.messages) {\n",
              "        // Send a message to notify the kernel that we're ready.\n",
              "        channel.send({})\n",
              "        if (message.buffers) {\n",
              "          for (const buffer of message.buffers) {\n",
              "            buffers.push(buffer);\n",
              "            downloaded += buffer.byteLength;\n",
              "            progress.value = downloaded;\n",
              "          }\n",
              "        }\n",
              "      }\n",
              "      const blob = new Blob(buffers, {type: 'application/binary'});\n",
              "      const a = document.createElement('a');\n",
              "      a.href = window.URL.createObjectURL(blob);\n",
              "      a.download = filename;\n",
              "      div.appendChild(a);\n",
              "      a.click();\n",
              "      div.remove();\n",
              "    }\n",
              "  "
            ],
            "text/plain": [
              "<IPython.core.display.Javascript object>"
            ]
          },
          "metadata": {
            "tags": []
          }
        },
        {
          "output_type": "display_data",
          "data": {
            "application/javascript": [
              "download(\"download_d45fbe7f-1256-4766-a511-1f1947c2d32e\", \"source.csv\", 46322663)"
            ],
            "text/plain": [
              "<IPython.core.display.Javascript object>"
            ]
          },
          "metadata": {
            "tags": []
          }
        }
      ]
    }
  ]
}